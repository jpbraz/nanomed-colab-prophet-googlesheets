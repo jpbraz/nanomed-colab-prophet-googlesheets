{
  "cells": [
    {
      "cell_type": "markdown",
      "metadata": {
        "id": "view-in-github",
        "colab_type": "text"
      },
      "source": [
        "<a href=\"https://colab.research.google.com/github/jpbraz/nanomed-colab-prophet-googlesheets/blob/main/profeta_datasus_googlesheets.ipynb\" target=\"_parent\"><img src=\"https://colab.research.google.com/assets/colab-badge.svg\" alt=\"Open In Colab\"/></a>"
      ]
    },
    {
      "cell_type": "markdown",
      "metadata": {
        "id": "RhWZf8vVnuSs"
      },
      "source": [
        "# Projeto de Pesquisa NANOMED - UFRN/EMCM\n",
        "    \n",
        "  ## Grupo:\n",
        "    Profa. Dra. Janine Braz (Coodenadora)\n",
        "    Prof. Dr. Diego Bonfada (Coordenador Adjunto)\n",
        "    Prof. Dr. Leonardo Nobre (Pesquisador)\n",
        "    MS.c Brígida Albuquerque (Pesquisadora)\n",
        "    Prof. Dr. Tiago Oliveira (Pesquisador)\n",
        "    Profa. Dra. Carla Nascimento (Pesquisadora)\n",
        "    Aurélio Neto (Discente de Medicina)\n",
        "    David Nery (Discente de Medicina)\n",
        "    João Paulo (Discente de Tecnologia da Informação)\n",
        "##  "
      ]
    },
    {
      "cell_type": "markdown",
      "metadata": {
        "id": "Nrvo0_Tc02yX"
      },
      "source": [
        "Executar cada área de código, clicando no botão \"play\" que aparece do lado esquerdo de célula de código neste documento, seguindo a ordem abaixo.\n",
        "\n",
        "Obs.:\n",
        "1.   Caso seja necessário alterar alguma variável no código, basta clica na região que deseja alterar e editar antes de executar.\n",
        "2.   Pode-se executar todo o código pressionando Ctrl+F9 ou selecionando no menu do 'googlecolab'.\n",
        "2.   Na execução de alguns os códigos são emitidos saídas (outputs) abaixo do código, mostrando o resultado de cada execução, quando a possui (para alguns não tem saída)."
      ]
    },
    {
      "cell_type": "markdown",
      "metadata": {
        "id": "kL8Sv9RQXtP8"
      },
      "source": [
        "## 1ª Etapa\n",
        "\n",
        "Instalação do pacote \"Gspread\", para manipular planilhas do google drive, usando o comando \"pip\" do python. Para isso vamos utilizar a *tag* '--upgrade', para garantir a instalação da última versão.\n",
        "Copie e cole: !pip install --upgrade gspread\n",
        "\n",
        "👇"
      ]
    },
    {
      "cell_type": "code",
      "execution_count": null,
      "metadata": {
        "id": "5xBs5A-kXYvl"
      },
      "outputs": [],
      "source": [
        "!pip install gspread==3.4.2"
      ]
    },
    {
      "cell_type": "markdown",
      "metadata": {
        "id": "w2XO86vKYCt8"
      },
      "source": [
        "## 2ª Etapa\n",
        "\n",
        "Autenticação para conseguir ler as planilhas do google sheets, que estão no google drive.\n",
        "\n",
        "👇"
      ]
    },
    {
      "cell_type": "code",
      "execution_count": null,
      "metadata": {
        "id": "oEbHGHDDYkcF"
      },
      "outputs": [],
      "source": [
        "from google.colab import auth\n",
        "auth.authenticate_user()\n",
        "\n"
      ]
    },
    {
      "cell_type": "markdown",
      "metadata": {
        "id": "a2OsxIXeZJ7O"
      },
      "source": [
        "#### Para isso:\n",
        "1) Clica no link gerado.\n",
        "\n",
        "2) Realiza a autenticação em sua conta google, autorizando o google cloud SDK a acessar a sua conta.\n",
        "\n",
        "3) Copia o código gerado e insere no espaço de verificação acima.\n"
      ]
    },
    {
      "cell_type": "markdown",
      "source": [
        "Informandos as credenciais do usuário autenticado para o google sheet, conseguir ler as planilhas, que estão no google drive.\n",
        "\n",
        "👇"
      ],
      "metadata": {
        "id": "TsnnPVrYaYKK"
      }
    },
    {
      "cell_type": "code",
      "source": [
        "import gspread\n",
        "from google.auth import default\n",
        "creds, _ = default()\n",
        "\n",
        "gs = gspread.authorize(creds)"
      ],
      "metadata": {
        "id": "io_i-Wh3ZfSf"
      },
      "execution_count": null,
      "outputs": []
    },
    {
      "cell_type": "markdown",
      "metadata": {
        "id": "hG0ReV1dZ2iL"
      },
      "source": [
        "## 3ª Etapa\n",
        "\n",
        "Seleciona a planilha do google sheets que você que quer trabalhar, passando o nome da planilha para o método \"gs.open\".\n",
        "\n",
        "Selecione o nome da planilha do seu Google Drive, na caixa de seleção que aparecerá abaixo do código\n",
        "\n",
        "👇"
      ]
    },
    {
      "cell_type": "code",
      "source": [
        "import ipywidgets as widgets\n",
        "\n",
        "# recupera uma lista de arquivos do seu google drive\n",
        "minhas_planilhas = gs.list_spreadsheet_files()\n",
        "\n",
        "# cria uma lista com tuplas (chave, valor) dos nomes das planilhas recuperadas acima\n",
        "nomes_planilhas = []\n",
        "for cada_planilha in minhas_planilhas:\n",
        "  nomes_planilhas.append((cada_planilha['name'], cada_planilha['name']))\n",
        "\n",
        "# mostra uma caixa de seleção para selecionar o arquivo que deseja trabalhar\n",
        "planilha_selecionada = widgets.Dropdown(options=nomes_planilhas, value='pesquisa_caico')\n",
        "planilha_selecionada\n"
      ],
      "metadata": {
        "id": "NE-rNpHuVtsc"
      },
      "execution_count": null,
      "outputs": []
    },
    {
      "cell_type": "markdown",
      "source": [
        "A planilha será armazenanda na variável \"planilha\"\n",
        "\n",
        "👇"
      ],
      "metadata": {
        "id": "OZ1J5VHsVzaR"
      }
    },
    {
      "cell_type": "code",
      "execution_count": null,
      "metadata": {
        "id": "5ayDR5ZJaYu9"
      },
      "outputs": [],
      "source": [
        "planilha = gs.open(planilha_selecionada.value)\n",
        "print(planilha.title)"
      ]
    },
    {
      "cell_type": "code",
      "source": [
        "# recupera uma lista de abas do arquivo selecionado no passo anterior\n",
        "sheets = planilha.worksheets()\n",
        "\n",
        "# cria uma lista com os nomes das abas do arquivo recuperado no passso anterior\n",
        "nomes_abas = []\n",
        "for sheet in sheets:\n",
        "  nomes_abas.append((sheet.title))\n",
        "\n",
        "# mostra uma caixa de seleção para selecionar o arquivo que deseja trabalhar\n",
        "aba_selecionada = widgets.Dropdown(options=nomes_abas)"
      ],
      "metadata": {
        "id": "rWSygVkpYKvp"
      },
      "execution_count": null,
      "outputs": []
    },
    {
      "cell_type": "markdown",
      "source": [
        "## **Importante**: Selecionar aqui a **planilha**\n",
        "Execute a célula abaixo e seleciona a aba, na caixa de seleção que aparecerá abaixo\n",
        "\n",
        "👇"
      ],
      "metadata": {
        "id": "KCA7992oygZT"
      }
    },
    {
      "cell_type": "code",
      "source": [
        "aba_selecionada"
      ],
      "metadata": {
        "id": "XzuBI_A-yA3g"
      },
      "execution_count": null,
      "outputs": []
    },
    {
      "cell_type": "markdown",
      "metadata": {
        "id": "QNQCXcNSO34Y"
      },
      "source": [
        "Abaixo é realizada a seleção da planilha pelo o número, mostrando o nome de \"pagina\" (aba). Ex.: Para a 1ª planilha do arquivo, usa planilha.get_worksheet(0); Para a 2ª, planilha.get_worksheet(1), etc\n",
        "\n",
        "👇"
      ]
    },
    {
      "cell_type": "code",
      "execution_count": null,
      "metadata": {
        "id": "PdCFWfEua9tq"
      },
      "outputs": [],
      "source": [
        "pagina = planilha.get_worksheet(aba_selecionada.index)\n",
        "\n",
        "print(\"Planilha selecionada: \", pagina.title)"
      ]
    },
    {
      "cell_type": "markdown",
      "metadata": {
        "id": "v1h5qDzccg20"
      },
      "source": [
        "Verificar o cabeçalho da planilha"
      ]
    },
    {
      "cell_type": "code",
      "execution_count": null,
      "metadata": {
        "id": "_3O-AFpKb4Cl"
      },
      "outputs": [],
      "source": [
        "pagina.row_values(1)"
      ]
    },
    {
      "cell_type": "markdown",
      "metadata": {
        "id": "NPhqj_AwcPVC"
      },
      "source": [
        "## 4ª Etapa\n",
        "Carregar a planilha em um Dataframe do Pandas.\n",
        "Dataframes pandas são objetos de duas dimensões (tabela), no qual cada coluna pode possuir um tipo primário diferente. São utilizados para armazenar bases de dados.\n",
        "\n",
        "### Para isso, vamos:\n",
        "\n",
        "1) Importa o pacote pandas\n",
        "\n",
        "👇"
      ]
    },
    {
      "cell_type": "code",
      "execution_count": null,
      "metadata": {
        "id": "6-ufKGgjcj1-"
      },
      "outputs": [],
      "source": [
        "import pandas as pd"
      ]
    },
    {
      "cell_type": "markdown",
      "metadata": {
        "id": "2GgSRjBMcm_Y"
      },
      "source": [
        "2) Pega todos os registro e armazena na memória como um Dataframe\n",
        "\n",
        "👇"
      ]
    },
    {
      "cell_type": "code",
      "execution_count": null,
      "metadata": {
        "id": "ag-pVf8Cct2d"
      },
      "outputs": [],
      "source": [
        "df = pd.DataFrame(pagina.get_all_records())"
      ]
    },
    {
      "cell_type": "markdown",
      "metadata": {
        "id": "z3D0SwdBc_w9"
      },
      "source": [
        "3) Mostra as primeiras linhas do dataframe"
      ]
    },
    {
      "cell_type": "code",
      "execution_count": null,
      "metadata": {
        "id": "enoGN8wEdIfI"
      },
      "outputs": [],
      "source": [
        "df.head()"
      ]
    },
    {
      "cell_type": "markdown",
      "source": [
        "4) Mostra as últimas linhas do dataframe"
      ],
      "metadata": {
        "id": "Ff9JxIh7n2U7"
      }
    },
    {
      "cell_type": "code",
      "source": [
        "df.tail()"
      ],
      "metadata": {
        "id": "0FjFWyRfnjq9"
      },
      "execution_count": null,
      "outputs": []
    },
    {
      "cell_type": "markdown",
      "metadata": {
        "id": "d3QRC86zdb8Y"
      },
      "source": [
        "Pode-se utilizar o método query para filtrar um valor específico de uma coluna.\n",
        "Ex.: df.query('Ano'==2020)\n",
        "\n",
        "```\n",
        "df.query('Ano in [2018,2019]')`\n",
        "```\n",
        "```\n",
        "# para verificar o formato da células\n",
        "info = df.query('Ano==2018-12-31').info()\n",
        "```"
      ]
    },
    {
      "cell_type": "code",
      "execution_count": null,
      "metadata": {
        "id": "xfPuY2xNhFMK"
      },
      "outputs": [],
      "source": [
        "# numero de linhas\n",
        "df.shape[0]"
      ]
    },
    {
      "cell_type": "markdown",
      "metadata": {
        "id": "paiETjOae2IR"
      },
      "source": [
        "## 5ª Etapa\n",
        "Fazer a predição com o [Prophet by Facebook](https://facebook.github.io/prophet/docs/quick_start.html)\n",
        "- Profeta é um procedimento para prever dados de série temporal com base em um modelo aditivo em que tendências não lineares são ajustadas com sazonalidade anual, semanal e diária, além de efeitos de feriados. Funciona melhor com séries temporais que têm fortes efeitos sazonais e várias temporadas de dados históricos. O Prophet é robusto para dados ausentes e mudanças na tendência, e normalmente lida bem com outliers. ([Informações copiadas de sua documentação](https://facebook.github.io/prophet/))\n",
        "\n",
        "\n",
        "\n",
        "1.   Instalar\n",
        "2.   Importar\n",
        "3.   Predição\n",
        "\n",
        "\n",
        "👇👇...👇"
      ]
    },
    {
      "cell_type": "code",
      "execution_count": null,
      "metadata": {
        "id": "P0AEzZXEj06R"
      },
      "outputs": [],
      "source": [
        "!pip install pystan==2.19.1.1\n",
        "\n",
        "!pip install prophet\n"
      ]
    },
    {
      "cell_type": "code",
      "execution_count": null,
      "metadata": {
        "id": "2ga09DNRkKR_"
      },
      "outputs": [],
      "source": [
        "from prophet import Prophet"
      ]
    },
    {
      "cell_type": "code",
      "source": [
        "head = pagina.row_values(1)\n",
        "\n",
        "# mostra uma caixa de seleção para selecionar a coluna com a data\n",
        "coluna_data = widgets.Dropdown(options=head.copy(), value=head[0], description='Seleciona a coluna com a Data (Série Temporal): ')\n",
        "coluna_data"
      ],
      "metadata": {
        "id": "issWevuLGEzE"
      },
      "execution_count": null,
      "outputs": []
    },
    {
      "cell_type": "code",
      "source": [
        "coluna_data.index\n",
        "head.remove(coluna_data.value)\n",
        "lista_dados = []\n",
        "lista_dados = head\n",
        "\n",
        "# mostra uma caixa de seleção para selecionar a coluna com os dados a serem analisados\n",
        "coluna_valores = widgets.Dropdown(options=lista_dados, value = lista_dados[0], description='Selecione a coluna com os dados a serem analisados: ')\n",
        "coluna_valores\n"
      ],
      "metadata": {
        "id": "t--eyxLqHAmm"
      },
      "execution_count": null,
      "outputs": []
    },
    {
      "cell_type": "code",
      "execution_count": null,
      "metadata": {
        "id": "zNrjKeVtlWtB"
      },
      "outputs": [],
      "source": [
        "df.rename(columns={coluna_data.value: 'ds', coluna_valores.value: 'y'}, inplace = True)\n",
        "# df.info()"
      ]
    },
    {
      "cell_type": "code",
      "execution_count": null,
      "metadata": {
        "id": "gFfBZwt-kbY0"
      },
      "outputs": [],
      "source": [
        "m = Prophet()\n",
        "m.fit(df)"
      ]
    },
    {
      "cell_type": "code",
      "execution_count": null,
      "metadata": {
        "id": "pcSZdXpykd2w"
      },
      "outputs": [],
      "source": [
        "# Periodo de previsão futura\n",
        "periodo_previsao = 4\n",
        "frequencia = 'Y' # Y: Anual / M: Mensal / D: Diária / ms: milisegundos / h: horas / mim: minutos\n",
        "future = m.make_future_dataframe(periods=periodo_previsao, freq=frequencia, include_history=True)\n",
        "# future.tail(21)"
      ]
    },
    {
      "cell_type": "code",
      "execution_count": null,
      "metadata": {
        "id": "1AR58_-SkmXK"
      },
      "outputs": [],
      "source": [
        "forecast = m.predict(future)\n",
        "forecast[['ds', 'yhat', 'yhat_lower', 'yhat_upper']]\n"
      ]
    },
    {
      "cell_type": "code",
      "execution_count": null,
      "metadata": {
        "id": "_nErhY1ykp9z"
      },
      "outputs": [],
      "source": [
        "fig1 = m.plot(forecast, xlabel='Ano', ylabel='Casos')\n"
      ]
    },
    {
      "cell_type": "code",
      "execution_count": null,
      "metadata": {
        "id": "l4kkdsI-ksg8"
      },
      "outputs": [],
      "source": [
        "fig2 = m.plot_components(forecast)\n"
      ]
    },
    {
      "cell_type": "markdown",
      "source": [
        "\n",
        "\n",
        "\n",
        "#DIAGNOSTICO - Cross Validation"
      ],
      "metadata": {
        "id": "V5kB6Og6xnvU"
      }
    },
    {
      "cell_type": "code",
      "source": [
        "from prophet.diagnostics import cross_validation, performance_metrics\n",
        "\n",
        "numero_dias_no_ano = 365\n",
        "quantidade_de_anos_analisados= df.shape[0]\n",
        "\n",
        "quantidade_para_treino = quantidade_de_anos_analisados *0.50\n",
        "quantidade_para_horizonte = quantidade_de_anos_analisados * 0.25\n",
        "\n",
        "# o tamanho do período de treinamento inicial (em dias)\n",
        "periodo_de_treino = quantidade_para_treino * numero_dias_no_ano\n",
        "\n",
        "# periodo de cada corte (em dias)\n",
        "periodo_de_corte = numero_dias_no_ano\n",
        "\n",
        "# horizonte de previsão (em dias)\n",
        "horizonte = quantidade_para_horizonte * numero_dias_no_ano\n",
        "\n",
        "# dataframe com os valores reais y e os valores de previsão fora da amostra yhat, em cada data de previsão simulada e para cada data de corte.\n",
        "df_cv = cross_validation(m, initial=f'{periodo_de_treino} days', period=f'{periodo_de_corte} days', horizon=f'{horizonte} days')\n",
        "\n",
        "# métricas de desempenho - MSE, RMSE, MAE, MAPE e MDAPE\n",
        "metrics = performance_metrics(df_cv)\n",
        "metrics"
      ],
      "metadata": {
        "id": "g9KxszixVLMo"
      },
      "execution_count": null,
      "outputs": []
    },
    {
      "cell_type": "code",
      "source": [
        "# Python\n",
        "from prophet.plot import plot_cross_validation_metric\n",
        "fig = plot_cross_validation_metric(df_cv, metric='mse')\n"
      ],
      "metadata": {
        "id": "oK5CbgmL1WdI"
      },
      "execution_count": null,
      "outputs": []
    },
    {
      "cell_type": "markdown",
      "metadata": {
        "id": "SA27BW29kYps"
      },
      "source": [
        ".\n",
        "\n",
        ".\n",
        "\n",
        ".\n",
        "\n",
        "## Modelo para uso do pyMannKendall\n",
        "\n",
        "\n",
        "# 👇"
      ]
    },
    {
      "cell_type": "code",
      "execution_count": null,
      "metadata": {
        "id": "ht1V2As0Z6f4"
      },
      "outputs": [],
      "source": [
        "!pip install pymannkendall"
      ]
    },
    {
      "cell_type": "markdown",
      "metadata": {
        "id": "5iNRO1OlN7cj"
      },
      "source": [
        "Análise de Tendência dos valores após análise de predição pelo profeta\n",
        "\n",
        "👇"
      ]
    },
    {
      "cell_type": "code",
      "execution_count": null,
      "metadata": {
        "id": "QM0I6mBCcH-T"
      },
      "outputs": [],
      "source": [
        "import pymannkendall as mk\n",
        "\n",
        "result = mk.original_test(forecast[['yhat']])\n",
        "print(result)"
      ]
    },
    {
      "cell_type": "markdown",
      "metadata": {
        "id": "L7_W8BGGesLe"
      },
      "source": [
        "## Útima etapa\n",
        "Pegar os valores e salvar em uma página da planilha\n",
        "#✋ ***Atenção! Só executar esta etapa, caso queira gravar na planilha.***\n",
        "\n"
      ]
    },
    {
      "cell_type": "code",
      "execution_count": null,
      "metadata": {
        "id": "HVLnfSS-f9wz"
      },
      "outputs": [],
      "source": [
        "import datetime\n",
        "# gerando um novo nome baseado no tempo\n",
        "x = datetime.datetime.now()\n",
        "nome_nova_pagina = \"analise \"+ x.strftime(\"%d/%m/%Y-%X\")\n",
        "\n",
        "# criar uma página na planilha com x colunas e y linhas\n",
        "\n",
        "pagina_com_estimativas = planilha.add_worksheet(nome_nova_pagina, rows=forecast.shape[0], cols=forecast.shape[1])"
      ]
    },
    {
      "cell_type": "code",
      "execution_count": null,
      "metadata": {
        "id": "FnIuN0GUit7p"
      },
      "outputs": [],
      "source": [
        "forecast['ds'] = forecast['ds'].astype(str)\n",
        "# transferir os dados do dataframe para a planilha\n",
        "pagina_com_estimativas.update([forecast.columns.values.tolist()] + forecast.values.tolist())"
      ]
    }
  ],
  "metadata": {
    "colab": {
      "provenance": [],
      "include_colab_link": true
    },
    "kernelspec": {
      "display_name": "Python 3",
      "name": "python3"
    },
    "language_info": {
      "name": "python"
    }
  },
  "nbformat": 4,
  "nbformat_minor": 0
}