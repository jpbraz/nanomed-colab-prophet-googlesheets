{
  "cells": [
    {
      "cell_type": "markdown",
      "metadata": {
        "id": "RhWZf8vVnuSs"
      },
      "source": [
        "# Projeto de Pesquisa NANOMED - UFRN/EMCM\n",
        "    \n",
        "  ## Grupo:\n",
        "    Profa. Dra. Janine Braz (Coodenadora)\n",
        "    Prof. Dr. Diego Bonfada (Coordenador Adjunto)\n",
        "    Prof. Dr. Leonardo Nobre (Pesquisador)\n",
        "    MS.c Brígida Albuquerque (Pesquisadora)\n",
        "    Prof. Dr. Tiago Oliveira (Pesquisador)\n",
        "    Profa. Dra. Carla Nascimento (Pesquisadora)\n",
        "    Aurélio Neto (Discente de Medicina)\n",
        "    David Nery (Discente de Medicina)\n",
        "    João Paulo (Discente de Tecnologia da Informação)\n",
        "##  "
      ]
    },
    {
      "cell_type": "markdown",
      "metadata": {
        "id": "Nrvo0_Tc02yX"
      },
      "source": [
        "Executar cada área de código, clicando no botão \"play\" que aparece do lado esquerdo de célula de código neste documento, seguindo a ordem abaixo.\n",
        "\n",
        "Obs.:\n",
        "1.   Caso seja necessário alterar alguma variável no código, basta clica na região que deseja alterar e editar antes de executar.\n",
        "2.   Pode-se executar todo o código pressionando Ctrl+F9 ou selecionando no menu do 'googlecolab'.\n",
        "2.   Na execução de alguns os códigos são emitidos saídas (outputs) abaixo do código, mostrando o resultado de cada execução, quando a possui (para alguns não tem saída)."
      ]
    },
    {
      "cell_type": "markdown",
      "metadata": {
        "id": "kL8Sv9RQXtP8"
      },
      "source": [
        "## 1ª Etapa\n",
        "\n",
        "Instalação do pacote \"Gspread\", para manipular planilhas do google drive, usando o comando \"pip\" do python. Para isso vamos utilizar a *tag* '--upgrade', para garantir a instalação da última versão.\n",
        "Copie e cole: !pip install --upgrade gspread\n",
        "\n",
        "👇"
      ]
    },
    {
      "cell_type": "code",
      "execution_count": 1,
      "metadata": {
        "id": "5xBs5A-kXYvl",
        "colab": {
          "base_uri": "https://localhost:8080/"
        },
        "outputId": "d2552b37-1b3c-4af7-daec-92c829f39ee0"
      },
      "outputs": [
        {
          "output_type": "stream",
          "name": "stdout",
          "text": [
            "Requirement already satisfied: gspread==3.4.2 in /usr/local/lib/python3.10/dist-packages (3.4.2)\n",
            "Requirement already satisfied: requests>=2.2.1 in /usr/local/lib/python3.10/dist-packages (from gspread==3.4.2) (2.31.0)\n",
            "Requirement already satisfied: google-auth in /usr/local/lib/python3.10/dist-packages (from gspread==3.4.2) (2.17.3)\n",
            "Requirement already satisfied: charset-normalizer<4,>=2 in /usr/local/lib/python3.10/dist-packages (from requests>=2.2.1->gspread==3.4.2) (3.2.0)\n",
            "Requirement already satisfied: idna<4,>=2.5 in /usr/local/lib/python3.10/dist-packages (from requests>=2.2.1->gspread==3.4.2) (3.4)\n",
            "Requirement already satisfied: urllib3<3,>=1.21.1 in /usr/local/lib/python3.10/dist-packages (from requests>=2.2.1->gspread==3.4.2) (1.26.16)\n",
            "Requirement already satisfied: certifi>=2017.4.17 in /usr/local/lib/python3.10/dist-packages (from requests>=2.2.1->gspread==3.4.2) (2023.7.22)\n",
            "Requirement already satisfied: cachetools<6.0,>=2.0.0 in /usr/local/lib/python3.10/dist-packages (from google-auth->gspread==3.4.2) (5.3.1)\n",
            "Requirement already satisfied: pyasn1-modules>=0.2.1 in /usr/local/lib/python3.10/dist-packages (from google-auth->gspread==3.4.2) (0.3.0)\n",
            "Requirement already satisfied: six>=1.9.0 in /usr/local/lib/python3.10/dist-packages (from google-auth->gspread==3.4.2) (1.16.0)\n",
            "Requirement already satisfied: rsa<5,>=3.1.4 in /usr/local/lib/python3.10/dist-packages (from google-auth->gspread==3.4.2) (4.9)\n",
            "Requirement already satisfied: pyasn1<0.6.0,>=0.4.6 in /usr/local/lib/python3.10/dist-packages (from pyasn1-modules>=0.2.1->google-auth->gspread==3.4.2) (0.5.0)\n"
          ]
        }
      ],
      "source": [
        "!pip install gspread==3.4.2"
      ]
    },
    {
      "cell_type": "markdown",
      "metadata": {
        "id": "w2XO86vKYCt8"
      },
      "source": [
        "## 2ª Etapa\n",
        "\n",
        "Autenticação para conseguir ler as planilhas do google sheets, que estão no google drive.\n",
        "\n",
        "👇"
      ]
    },
    {
      "cell_type": "code",
      "execution_count": 2,
      "metadata": {
        "id": "oEbHGHDDYkcF"
      },
      "outputs": [],
      "source": [
        "from google.colab import auth\n",
        "auth.authenticate_user()\n",
        "\n"
      ]
    },
    {
      "cell_type": "markdown",
      "metadata": {
        "id": "a2OsxIXeZJ7O"
      },
      "source": [
        "#### Para isso:\n",
        "1) Clica no link gerado.\n",
        "\n",
        "2) Realiza a autenticação em sua conta google, autorizando o google cloud SDK a acessar a sua conta.\n",
        "\n",
        "3) Copia o código gerado e insere no espaço de verificação acima.\n"
      ]
    },
    {
      "cell_type": "markdown",
      "source": [
        "Informandos as credenciais do usuário autenticado para o google sheet, conseguir ler as planilhas, que estão no google drive.\n",
        "\n",
        "👇"
      ],
      "metadata": {
        "id": "TsnnPVrYaYKK"
      }
    },
    {
      "cell_type": "code",
      "source": [
        "import gspread\n",
        "from google.auth import default\n",
        "creds, _ = default()\n",
        "\n",
        "gs = gspread.authorize(creds)"
      ],
      "metadata": {
        "id": "io_i-Wh3ZfSf"
      },
      "execution_count": 3,
      "outputs": []
    },
    {
      "cell_type": "markdown",
      "metadata": {
        "id": "hG0ReV1dZ2iL"
      },
      "source": [
        "## 3ª Etapa\n",
        "\n",
        "Seleciona a planilha do google sheets que você que quer trabalhar, passando o nome da planilha para o método \"gs.open\".\n",
        "\n",
        "Selecione o nome da planilha do seu Google Drive, na caixa de seleção que aparecerá abaixo do código\n",
        "\n",
        "👇"
      ]
    },
    {
      "cell_type": "code",
      "source": [
        "import ipywidgets as widgets\n",
        "\n",
        "# recupera uma lista de arquivos do seu google drive\n",
        "minhas_planilhas = gs.list_spreadsheet_files()\n",
        "\n",
        "# cria uma lista com tuplas (chave, valor) dos nomes das planilhas recuperadas acima\n",
        "nomes_planilhas = []\n",
        "for cada_planilha in minhas_planilhas:\n",
        "  nomes_planilhas.append((cada_planilha['name'], cada_planilha['name']))\n",
        "\n",
        "# mostra uma caixa de seleção para selecionar o arquivo que deseja trabalhar\n",
        "planilha_selecionada = widgets.Dropdown(options=nomes_planilhas, value='pesquisa_caico')\n",
        "planilha_selecionada\n"
      ],
      "metadata": {
        "colab": {
          "base_uri": "https://localhost:8080/",
          "height": 49,
          "referenced_widgets": [
            "b301cedb30bb42c5a9c3348234c94bf2",
            "e9cffc90fbf145feaf84a1dda4c72fbd",
            "1c3147baaf364d85876115d887d8f5ad"
          ]
        },
        "id": "NE-rNpHuVtsc",
        "outputId": "8bde01b6-2a7d-4426-82f5-ec0622c70a4f"
      },
      "execution_count": 4,
      "outputs": [
        {
          "output_type": "display_data",
          "data": {
            "text/plain": [
              "Dropdown(index=5, options=(('Mapa - Plantões dos Membros do MPRN', 'Mapa - Plantões dos Membros do MPRN'), ('L…"
            ],
            "application/vnd.jupyter.widget-view+json": {
              "version_major": 2,
              "version_minor": 0,
              "model_id": "b301cedb30bb42c5a9c3348234c94bf2"
            }
          },
          "metadata": {}
        }
      ]
    },
    {
      "cell_type": "markdown",
      "source": [
        "A planilha será armazenanda na variável \"planilha\"\n",
        "\n",
        "👇"
      ],
      "metadata": {
        "id": "OZ1J5VHsVzaR"
      }
    },
    {
      "cell_type": "code",
      "execution_count": 5,
      "metadata": {
        "id": "5ayDR5ZJaYu9",
        "colab": {
          "base_uri": "https://localhost:8080/"
        },
        "outputId": "2693be29-5549-40bf-a82a-fde312edc373"
      },
      "outputs": [
        {
          "output_type": "stream",
          "name": "stdout",
          "text": [
            "pesquisa_caico\n"
          ]
        }
      ],
      "source": [
        "planilha = gs.open(planilha_selecionada.value)\n",
        "print(planilha.title)"
      ]
    },
    {
      "cell_type": "code",
      "source": [
        "# recupera uma lista de abas do arquivo selecionado no passo anterior\n",
        "sheets = planilha.worksheets()\n",
        "\n",
        "# cria uma lista com os nomes das abas do arquivo recuperado no passso anterior\n",
        "nomes_abas = []\n",
        "for sheet in sheets:\n",
        "  nomes_abas.append((sheet.title))\n",
        "\n",
        "# mostra uma caixa de seleção para selecionar o arquivo que deseja trabalhar\n",
        "aba_selecionada = widgets.Dropdown(options=nomes_abas)"
      ],
      "metadata": {
        "id": "rWSygVkpYKvp"
      },
      "execution_count": 6,
      "outputs": []
    },
    {
      "cell_type": "markdown",
      "source": [
        "## **Importante**: Selecionar aqui a **planilha**\n",
        "Execute a célula abaixo e seleciona a aba, na caixa de seleção que aparecerá abaixo\n",
        "\n",
        "👇"
      ],
      "metadata": {
        "id": "KCA7992oygZT"
      }
    },
    {
      "cell_type": "code",
      "source": [
        "aba_selecionada"
      ],
      "metadata": {
        "colab": {
          "base_uri": "https://localhost:8080/",
          "height": 49,
          "referenced_widgets": [
            "2ea89bf4a14c44a08eebfe17daa78456",
            "19c6fc725e3747db9eb10a5f18323954",
            "188124bcf2264243aed64605d4fd177d"
          ]
        },
        "id": "XzuBI_A-yA3g",
        "outputId": "a885dede-5499-4d7b-c3aa-6319ef15f3fb"
      },
      "execution_count": 7,
      "outputs": [
        {
          "output_type": "display_data",
          "data": {
            "text/plain": [
              "Dropdown(options=('Próstata 2014-2019', 'Próstata 2000-2019', 'Próstata  Mês-Ano 2000-2019', 'Resultados Próst…"
            ],
            "application/vnd.jupyter.widget-view+json": {
              "version_major": 2,
              "version_minor": 0,
              "model_id": "2ea89bf4a14c44a08eebfe17daa78456"
            }
          },
          "metadata": {}
        }
      ]
    },
    {
      "cell_type": "markdown",
      "metadata": {
        "id": "QNQCXcNSO34Y"
      },
      "source": [
        "Abaixo é realizada a seleção da planilha pelo o número, mostrando o nome de \"pagina\" (aba). Ex.: Para a 1ª planilha do arquivo, usa planilha.get_worksheet(0); Para a 2ª, planilha.get_worksheet(1), etc\n",
        "\n",
        "👇"
      ]
    },
    {
      "cell_type": "code",
      "execution_count": 8,
      "metadata": {
        "id": "PdCFWfEua9tq",
        "colab": {
          "base_uri": "https://localhost:8080/"
        },
        "outputId": "36e1f306-d8d2-46ff-8159-a3a18db46330"
      },
      "outputs": [
        {
          "output_type": "stream",
          "name": "stdout",
          "text": [
            "Planilha selecionada:  Próstata 2000-2019\n"
          ]
        }
      ],
      "source": [
        "pagina = planilha.get_worksheet(aba_selecionada.index)\n",
        "\n",
        "print(\"Planilha selecionada: \", pagina.title)"
      ]
    },
    {
      "cell_type": "markdown",
      "metadata": {
        "id": "v1h5qDzccg20"
      },
      "source": [
        "Verificar o cabeçalho da planilha"
      ]
    },
    {
      "cell_type": "code",
      "execution_count": 9,
      "metadata": {
        "id": "_3O-AFpKb4Cl",
        "colab": {
          "base_uri": "https://localhost:8080/"
        },
        "outputId": "0fb6092f-623d-41a1-e7c7-fd6257edc696"
      },
      "outputs": [
        {
          "output_type": "execute_result",
          "data": {
            "text/plain": [
              "['Ano', 'Próstata Caicó', 'Próstata RN']"
            ]
          },
          "metadata": {},
          "execution_count": 9
        }
      ],
      "source": [
        "pagina.row_values(1)"
      ]
    },
    {
      "cell_type": "markdown",
      "metadata": {
        "id": "NPhqj_AwcPVC"
      },
      "source": [
        "## 4ª Etapa\n",
        "Carregar a planilha em um Dataframe do Pandas.\n",
        "Dataframes pandas são objetos de duas dimensões (tabela), no qual cada coluna pode possuir um tipo primário diferente. São utilizados para armazenar bases de dados.\n",
        "\n",
        "### Para isso, vamos:\n",
        "\n",
        "1) Importa o pacote pandas\n",
        "\n",
        "👇"
      ]
    },
    {
      "cell_type": "code",
      "execution_count": 10,
      "metadata": {
        "id": "6-ufKGgjcj1-"
      },
      "outputs": [],
      "source": [
        "import pandas as pd"
      ]
    },
    {
      "cell_type": "markdown",
      "metadata": {
        "id": "2GgSRjBMcm_Y"
      },
      "source": [
        "2) Pega todos os registro e armazena na memória como um Dataframe\n",
        "\n",
        "👇"
      ]
    },
    {
      "cell_type": "code",
      "execution_count": 11,
      "metadata": {
        "id": "ag-pVf8Cct2d"
      },
      "outputs": [],
      "source": [
        "df = pd.DataFrame(pagina.get_all_records())"
      ]
    },
    {
      "cell_type": "markdown",
      "metadata": {
        "id": "z3D0SwdBc_w9"
      },
      "source": [
        "3) Mostra as primeiras linhas do dataframe"
      ]
    },
    {
      "cell_type": "code",
      "execution_count": 12,
      "metadata": {
        "id": "enoGN8wEdIfI",
        "colab": {
          "base_uri": "https://localhost:8080/",
          "height": 206
        },
        "outputId": "b45bcd5f-37d3-4e2d-c4f5-ff262f2441bd"
      },
      "outputs": [
        {
          "output_type": "execute_result",
          "data": {
            "text/plain": [
              "          Ano  Próstata Caicó  Próstata RN\n",
              "0  2000-12-31               3           74\n",
              "1  2001-12-31               3           90\n",
              "2  2002-12-31               5           97\n",
              "3  2003-12-31               1          124\n",
              "4  2004-12-31               2          131"
            ],
            "text/html": [
              "\n",
              "\n",
              "  <div id=\"df-99bc3780-7904-4de6-84ef-db6f47d7a37c\">\n",
              "    <div class=\"colab-df-container\">\n",
              "      <div>\n",
              "<style scoped>\n",
              "    .dataframe tbody tr th:only-of-type {\n",
              "        vertical-align: middle;\n",
              "    }\n",
              "\n",
              "    .dataframe tbody tr th {\n",
              "        vertical-align: top;\n",
              "    }\n",
              "\n",
              "    .dataframe thead th {\n",
              "        text-align: right;\n",
              "    }\n",
              "</style>\n",
              "<table border=\"1\" class=\"dataframe\">\n",
              "  <thead>\n",
              "    <tr style=\"text-align: right;\">\n",
              "      <th></th>\n",
              "      <th>Ano</th>\n",
              "      <th>Próstata Caicó</th>\n",
              "      <th>Próstata RN</th>\n",
              "    </tr>\n",
              "  </thead>\n",
              "  <tbody>\n",
              "    <tr>\n",
              "      <th>0</th>\n",
              "      <td>2000-12-31</td>\n",
              "      <td>3</td>\n",
              "      <td>74</td>\n",
              "    </tr>\n",
              "    <tr>\n",
              "      <th>1</th>\n",
              "      <td>2001-12-31</td>\n",
              "      <td>3</td>\n",
              "      <td>90</td>\n",
              "    </tr>\n",
              "    <tr>\n",
              "      <th>2</th>\n",
              "      <td>2002-12-31</td>\n",
              "      <td>5</td>\n",
              "      <td>97</td>\n",
              "    </tr>\n",
              "    <tr>\n",
              "      <th>3</th>\n",
              "      <td>2003-12-31</td>\n",
              "      <td>1</td>\n",
              "      <td>124</td>\n",
              "    </tr>\n",
              "    <tr>\n",
              "      <th>4</th>\n",
              "      <td>2004-12-31</td>\n",
              "      <td>2</td>\n",
              "      <td>131</td>\n",
              "    </tr>\n",
              "  </tbody>\n",
              "</table>\n",
              "</div>\n",
              "      <button class=\"colab-df-convert\" onclick=\"convertToInteractive('df-99bc3780-7904-4de6-84ef-db6f47d7a37c')\"\n",
              "              title=\"Convert this dataframe to an interactive table.\"\n",
              "              style=\"display:none;\">\n",
              "\n",
              "  <svg xmlns=\"http://www.w3.org/2000/svg\" height=\"24px\"viewBox=\"0 0 24 24\"\n",
              "       width=\"24px\">\n",
              "    <path d=\"M0 0h24v24H0V0z\" fill=\"none\"/>\n",
              "    <path d=\"M18.56 5.44l.94 2.06.94-2.06 2.06-.94-2.06-.94-.94-2.06-.94 2.06-2.06.94zm-11 1L8.5 8.5l.94-2.06 2.06-.94-2.06-.94L8.5 2.5l-.94 2.06-2.06.94zm10 10l.94 2.06.94-2.06 2.06-.94-2.06-.94-.94-2.06-.94 2.06-2.06.94z\"/><path d=\"M17.41 7.96l-1.37-1.37c-.4-.4-.92-.59-1.43-.59-.52 0-1.04.2-1.43.59L10.3 9.45l-7.72 7.72c-.78.78-.78 2.05 0 2.83L4 21.41c.39.39.9.59 1.41.59.51 0 1.02-.2 1.41-.59l7.78-7.78 2.81-2.81c.8-.78.8-2.07 0-2.86zM5.41 20L4 18.59l7.72-7.72 1.47 1.35L5.41 20z\"/>\n",
              "  </svg>\n",
              "      </button>\n",
              "\n",
              "\n",
              "\n",
              "    <div id=\"df-319e928b-7f82-4efc-924c-28592e9125c0\">\n",
              "      <button class=\"colab-df-quickchart\" onclick=\"quickchart('df-319e928b-7f82-4efc-924c-28592e9125c0')\"\n",
              "              title=\"Suggest charts.\"\n",
              "              style=\"display:none;\">\n",
              "\n",
              "<svg xmlns=\"http://www.w3.org/2000/svg\" height=\"24px\"viewBox=\"0 0 24 24\"\n",
              "     width=\"24px\">\n",
              "    <g>\n",
              "        <path d=\"M19 3H5c-1.1 0-2 .9-2 2v14c0 1.1.9 2 2 2h14c1.1 0 2-.9 2-2V5c0-1.1-.9-2-2-2zM9 17H7v-7h2v7zm4 0h-2V7h2v10zm4 0h-2v-4h2v4z\"/>\n",
              "    </g>\n",
              "</svg>\n",
              "      </button>\n",
              "    </div>\n",
              "\n",
              "<style>\n",
              "  .colab-df-quickchart {\n",
              "    background-color: #E8F0FE;\n",
              "    border: none;\n",
              "    border-radius: 50%;\n",
              "    cursor: pointer;\n",
              "    display: none;\n",
              "    fill: #1967D2;\n",
              "    height: 32px;\n",
              "    padding: 0 0 0 0;\n",
              "    width: 32px;\n",
              "  }\n",
              "\n",
              "  .colab-df-quickchart:hover {\n",
              "    background-color: #E2EBFA;\n",
              "    box-shadow: 0px 1px 2px rgba(60, 64, 67, 0.3), 0px 1px 3px 1px rgba(60, 64, 67, 0.15);\n",
              "    fill: #174EA6;\n",
              "  }\n",
              "\n",
              "  [theme=dark] .colab-df-quickchart {\n",
              "    background-color: #3B4455;\n",
              "    fill: #D2E3FC;\n",
              "  }\n",
              "\n",
              "  [theme=dark] .colab-df-quickchart:hover {\n",
              "    background-color: #434B5C;\n",
              "    box-shadow: 0px 1px 3px 1px rgba(0, 0, 0, 0.15);\n",
              "    filter: drop-shadow(0px 1px 2px rgba(0, 0, 0, 0.3));\n",
              "    fill: #FFFFFF;\n",
              "  }\n",
              "</style>\n",
              "\n",
              "    <script>\n",
              "      async function quickchart(key) {\n",
              "        const containerElement = document.querySelector('#' + key);\n",
              "        const charts = await google.colab.kernel.invokeFunction(\n",
              "            'suggestCharts', [key], {});\n",
              "      }\n",
              "    </script>\n",
              "\n",
              "      <script>\n",
              "\n",
              "function displayQuickchartButton(domScope) {\n",
              "  let quickchartButtonEl =\n",
              "    domScope.querySelector('#df-319e928b-7f82-4efc-924c-28592e9125c0 button.colab-df-quickchart');\n",
              "  quickchartButtonEl.style.display =\n",
              "    google.colab.kernel.accessAllowed ? 'block' : 'none';\n",
              "}\n",
              "\n",
              "        displayQuickchartButton(document);\n",
              "      </script>\n",
              "      <style>\n",
              "    .colab-df-container {\n",
              "      display:flex;\n",
              "      flex-wrap:wrap;\n",
              "      gap: 12px;\n",
              "    }\n",
              "\n",
              "    .colab-df-convert {\n",
              "      background-color: #E8F0FE;\n",
              "      border: none;\n",
              "      border-radius: 50%;\n",
              "      cursor: pointer;\n",
              "      display: none;\n",
              "      fill: #1967D2;\n",
              "      height: 32px;\n",
              "      padding: 0 0 0 0;\n",
              "      width: 32px;\n",
              "    }\n",
              "\n",
              "    .colab-df-convert:hover {\n",
              "      background-color: #E2EBFA;\n",
              "      box-shadow: 0px 1px 2px rgba(60, 64, 67, 0.3), 0px 1px 3px 1px rgba(60, 64, 67, 0.15);\n",
              "      fill: #174EA6;\n",
              "    }\n",
              "\n",
              "    [theme=dark] .colab-df-convert {\n",
              "      background-color: #3B4455;\n",
              "      fill: #D2E3FC;\n",
              "    }\n",
              "\n",
              "    [theme=dark] .colab-df-convert:hover {\n",
              "      background-color: #434B5C;\n",
              "      box-shadow: 0px 1px 3px 1px rgba(0, 0, 0, 0.15);\n",
              "      filter: drop-shadow(0px 1px 2px rgba(0, 0, 0, 0.3));\n",
              "      fill: #FFFFFF;\n",
              "    }\n",
              "  </style>\n",
              "\n",
              "      <script>\n",
              "        const buttonEl =\n",
              "          document.querySelector('#df-99bc3780-7904-4de6-84ef-db6f47d7a37c button.colab-df-convert');\n",
              "        buttonEl.style.display =\n",
              "          google.colab.kernel.accessAllowed ? 'block' : 'none';\n",
              "\n",
              "        async function convertToInteractive(key) {\n",
              "          const element = document.querySelector('#df-99bc3780-7904-4de6-84ef-db6f47d7a37c');\n",
              "          const dataTable =\n",
              "            await google.colab.kernel.invokeFunction('convertToInteractive',\n",
              "                                                     [key], {});\n",
              "          if (!dataTable) return;\n",
              "\n",
              "          const docLinkHtml = 'Like what you see? Visit the ' +\n",
              "            '<a target=\"_blank\" href=https://colab.research.google.com/notebooks/data_table.ipynb>data table notebook</a>'\n",
              "            + ' to learn more about interactive tables.';\n",
              "          element.innerHTML = '';\n",
              "          dataTable['output_type'] = 'display_data';\n",
              "          await google.colab.output.renderOutput(dataTable, element);\n",
              "          const docLink = document.createElement('div');\n",
              "          docLink.innerHTML = docLinkHtml;\n",
              "          element.appendChild(docLink);\n",
              "        }\n",
              "      </script>\n",
              "    </div>\n",
              "  </div>\n"
            ]
          },
          "metadata": {},
          "execution_count": 12
        }
      ],
      "source": [
        "df.head()"
      ]
    },
    {
      "cell_type": "markdown",
      "source": [
        "4) Mostra as últimas linhas do dataframe"
      ],
      "metadata": {
        "id": "Ff9JxIh7n2U7"
      }
    },
    {
      "cell_type": "code",
      "source": [
        "df.tail()"
      ],
      "metadata": {
        "id": "0FjFWyRfnjq9",
        "colab": {
          "base_uri": "https://localhost:8080/",
          "height": 206
        },
        "outputId": "3938933e-4859-4da9-d84d-d28e75b1e146"
      },
      "execution_count": 13,
      "outputs": [
        {
          "output_type": "execute_result",
          "data": {
            "text/plain": [
              "           Ano  Próstata Caicó  Próstata RN\n",
              "15  2015-12-31              10          264\n",
              "16  2016-12-31              16          289\n",
              "17  2017-12-31               8          294\n",
              "18  2018-12-31               7          272\n",
              "19  2019-12-31              11          284"
            ],
            "text/html": [
              "\n",
              "\n",
              "  <div id=\"df-f47c1341-4699-48c0-8731-c30bd37b8e21\">\n",
              "    <div class=\"colab-df-container\">\n",
              "      <div>\n",
              "<style scoped>\n",
              "    .dataframe tbody tr th:only-of-type {\n",
              "        vertical-align: middle;\n",
              "    }\n",
              "\n",
              "    .dataframe tbody tr th {\n",
              "        vertical-align: top;\n",
              "    }\n",
              "\n",
              "    .dataframe thead th {\n",
              "        text-align: right;\n",
              "    }\n",
              "</style>\n",
              "<table border=\"1\" class=\"dataframe\">\n",
              "  <thead>\n",
              "    <tr style=\"text-align: right;\">\n",
              "      <th></th>\n",
              "      <th>Ano</th>\n",
              "      <th>Próstata Caicó</th>\n",
              "      <th>Próstata RN</th>\n",
              "    </tr>\n",
              "  </thead>\n",
              "  <tbody>\n",
              "    <tr>\n",
              "      <th>15</th>\n",
              "      <td>2015-12-31</td>\n",
              "      <td>10</td>\n",
              "      <td>264</td>\n",
              "    </tr>\n",
              "    <tr>\n",
              "      <th>16</th>\n",
              "      <td>2016-12-31</td>\n",
              "      <td>16</td>\n",
              "      <td>289</td>\n",
              "    </tr>\n",
              "    <tr>\n",
              "      <th>17</th>\n",
              "      <td>2017-12-31</td>\n",
              "      <td>8</td>\n",
              "      <td>294</td>\n",
              "    </tr>\n",
              "    <tr>\n",
              "      <th>18</th>\n",
              "      <td>2018-12-31</td>\n",
              "      <td>7</td>\n",
              "      <td>272</td>\n",
              "    </tr>\n",
              "    <tr>\n",
              "      <th>19</th>\n",
              "      <td>2019-12-31</td>\n",
              "      <td>11</td>\n",
              "      <td>284</td>\n",
              "    </tr>\n",
              "  </tbody>\n",
              "</table>\n",
              "</div>\n",
              "      <button class=\"colab-df-convert\" onclick=\"convertToInteractive('df-f47c1341-4699-48c0-8731-c30bd37b8e21')\"\n",
              "              title=\"Convert this dataframe to an interactive table.\"\n",
              "              style=\"display:none;\">\n",
              "\n",
              "  <svg xmlns=\"http://www.w3.org/2000/svg\" height=\"24px\"viewBox=\"0 0 24 24\"\n",
              "       width=\"24px\">\n",
              "    <path d=\"M0 0h24v24H0V0z\" fill=\"none\"/>\n",
              "    <path d=\"M18.56 5.44l.94 2.06.94-2.06 2.06-.94-2.06-.94-.94-2.06-.94 2.06-2.06.94zm-11 1L8.5 8.5l.94-2.06 2.06-.94-2.06-.94L8.5 2.5l-.94 2.06-2.06.94zm10 10l.94 2.06.94-2.06 2.06-.94-2.06-.94-.94-2.06-.94 2.06-2.06.94z\"/><path d=\"M17.41 7.96l-1.37-1.37c-.4-.4-.92-.59-1.43-.59-.52 0-1.04.2-1.43.59L10.3 9.45l-7.72 7.72c-.78.78-.78 2.05 0 2.83L4 21.41c.39.39.9.59 1.41.59.51 0 1.02-.2 1.41-.59l7.78-7.78 2.81-2.81c.8-.78.8-2.07 0-2.86zM5.41 20L4 18.59l7.72-7.72 1.47 1.35L5.41 20z\"/>\n",
              "  </svg>\n",
              "      </button>\n",
              "\n",
              "\n",
              "\n",
              "    <div id=\"df-86e3d207-a00c-4159-909b-446056f60174\">\n",
              "      <button class=\"colab-df-quickchart\" onclick=\"quickchart('df-86e3d207-a00c-4159-909b-446056f60174')\"\n",
              "              title=\"Suggest charts.\"\n",
              "              style=\"display:none;\">\n",
              "\n",
              "<svg xmlns=\"http://www.w3.org/2000/svg\" height=\"24px\"viewBox=\"0 0 24 24\"\n",
              "     width=\"24px\">\n",
              "    <g>\n",
              "        <path d=\"M19 3H5c-1.1 0-2 .9-2 2v14c0 1.1.9 2 2 2h14c1.1 0 2-.9 2-2V5c0-1.1-.9-2-2-2zM9 17H7v-7h2v7zm4 0h-2V7h2v10zm4 0h-2v-4h2v4z\"/>\n",
              "    </g>\n",
              "</svg>\n",
              "      </button>\n",
              "    </div>\n",
              "\n",
              "<style>\n",
              "  .colab-df-quickchart {\n",
              "    background-color: #E8F0FE;\n",
              "    border: none;\n",
              "    border-radius: 50%;\n",
              "    cursor: pointer;\n",
              "    display: none;\n",
              "    fill: #1967D2;\n",
              "    height: 32px;\n",
              "    padding: 0 0 0 0;\n",
              "    width: 32px;\n",
              "  }\n",
              "\n",
              "  .colab-df-quickchart:hover {\n",
              "    background-color: #E2EBFA;\n",
              "    box-shadow: 0px 1px 2px rgba(60, 64, 67, 0.3), 0px 1px 3px 1px rgba(60, 64, 67, 0.15);\n",
              "    fill: #174EA6;\n",
              "  }\n",
              "\n",
              "  [theme=dark] .colab-df-quickchart {\n",
              "    background-color: #3B4455;\n",
              "    fill: #D2E3FC;\n",
              "  }\n",
              "\n",
              "  [theme=dark] .colab-df-quickchart:hover {\n",
              "    background-color: #434B5C;\n",
              "    box-shadow: 0px 1px 3px 1px rgba(0, 0, 0, 0.15);\n",
              "    filter: drop-shadow(0px 1px 2px rgba(0, 0, 0, 0.3));\n",
              "    fill: #FFFFFF;\n",
              "  }\n",
              "</style>\n",
              "\n",
              "    <script>\n",
              "      async function quickchart(key) {\n",
              "        const containerElement = document.querySelector('#' + key);\n",
              "        const charts = await google.colab.kernel.invokeFunction(\n",
              "            'suggestCharts', [key], {});\n",
              "      }\n",
              "    </script>\n",
              "\n",
              "      <script>\n",
              "\n",
              "function displayQuickchartButton(domScope) {\n",
              "  let quickchartButtonEl =\n",
              "    domScope.querySelector('#df-86e3d207-a00c-4159-909b-446056f60174 button.colab-df-quickchart');\n",
              "  quickchartButtonEl.style.display =\n",
              "    google.colab.kernel.accessAllowed ? 'block' : 'none';\n",
              "}\n",
              "\n",
              "        displayQuickchartButton(document);\n",
              "      </script>\n",
              "      <style>\n",
              "    .colab-df-container {\n",
              "      display:flex;\n",
              "      flex-wrap:wrap;\n",
              "      gap: 12px;\n",
              "    }\n",
              "\n",
              "    .colab-df-convert {\n",
              "      background-color: #E8F0FE;\n",
              "      border: none;\n",
              "      border-radius: 50%;\n",
              "      cursor: pointer;\n",
              "      display: none;\n",
              "      fill: #1967D2;\n",
              "      height: 32px;\n",
              "      padding: 0 0 0 0;\n",
              "      width: 32px;\n",
              "    }\n",
              "\n",
              "    .colab-df-convert:hover {\n",
              "      background-color: #E2EBFA;\n",
              "      box-shadow: 0px 1px 2px rgba(60, 64, 67, 0.3), 0px 1px 3px 1px rgba(60, 64, 67, 0.15);\n",
              "      fill: #174EA6;\n",
              "    }\n",
              "\n",
              "    [theme=dark] .colab-df-convert {\n",
              "      background-color: #3B4455;\n",
              "      fill: #D2E3FC;\n",
              "    }\n",
              "\n",
              "    [theme=dark] .colab-df-convert:hover {\n",
              "      background-color: #434B5C;\n",
              "      box-shadow: 0px 1px 3px 1px rgba(0, 0, 0, 0.15);\n",
              "      filter: drop-shadow(0px 1px 2px rgba(0, 0, 0, 0.3));\n",
              "      fill: #FFFFFF;\n",
              "    }\n",
              "  </style>\n",
              "\n",
              "      <script>\n",
              "        const buttonEl =\n",
              "          document.querySelector('#df-f47c1341-4699-48c0-8731-c30bd37b8e21 button.colab-df-convert');\n",
              "        buttonEl.style.display =\n",
              "          google.colab.kernel.accessAllowed ? 'block' : 'none';\n",
              "\n",
              "        async function convertToInteractive(key) {\n",
              "          const element = document.querySelector('#df-f47c1341-4699-48c0-8731-c30bd37b8e21');\n",
              "          const dataTable =\n",
              "            await google.colab.kernel.invokeFunction('convertToInteractive',\n",
              "                                                     [key], {});\n",
              "          if (!dataTable) return;\n",
              "\n",
              "          const docLinkHtml = 'Like what you see? Visit the ' +\n",
              "            '<a target=\"_blank\" href=https://colab.research.google.com/notebooks/data_table.ipynb>data table notebook</a>'\n",
              "            + ' to learn more about interactive tables.';\n",
              "          element.innerHTML = '';\n",
              "          dataTable['output_type'] = 'display_data';\n",
              "          await google.colab.output.renderOutput(dataTable, element);\n",
              "          const docLink = document.createElement('div');\n",
              "          docLink.innerHTML = docLinkHtml;\n",
              "          element.appendChild(docLink);\n",
              "        }\n",
              "      </script>\n",
              "    </div>\n",
              "  </div>\n"
            ]
          },
          "metadata": {},
          "execution_count": 13
        }
      ]
    },
    {
      "cell_type": "markdown",
      "metadata": {
        "id": "d3QRC86zdb8Y"
      },
      "source": [
        "Pode-se utilizar o método query para filtrar um valor específico de uma coluna.\n",
        "Ex.: df.query('Ano'==2020)\n",
        "\n",
        "```\n",
        "df.query('Ano in [2018,2019]')`\n",
        "```\n",
        "```\n",
        "# para verificar o formato da células\n",
        "info = df.query('Ano==2018-12-31').info()\n",
        "```"
      ]
    },
    {
      "cell_type": "code",
      "execution_count": 14,
      "metadata": {
        "id": "xfPuY2xNhFMK",
        "colab": {
          "base_uri": "https://localhost:8080/"
        },
        "outputId": "88707b35-d472-4266-c928-99745f8618d7"
      },
      "outputs": [
        {
          "output_type": "execute_result",
          "data": {
            "text/plain": [
              "20"
            ]
          },
          "metadata": {},
          "execution_count": 14
        }
      ],
      "source": [
        "# numero de linhas\n",
        "df.shape[0]"
      ]
    },
    {
      "cell_type": "markdown",
      "metadata": {
        "id": "paiETjOae2IR"
      },
      "source": [
        "## 5ª Etapa\n",
        "Fazer a predição com o [Prophet by Facebook](https://facebook.github.io/prophet/docs/quick_start.html)\n",
        "- Profeta é um procedimento para prever dados de série temporal com base em um modelo aditivo em que tendências não lineares são ajustadas com sazonalidade anual, semanal e diária, além de efeitos de feriados. Funciona melhor com séries temporais que têm fortes efeitos sazonais e várias temporadas de dados históricos. O Prophet é robusto para dados ausentes e mudanças na tendência, e normalmente lida bem com outliers. ([Informações copiadas de sua documentação](https://facebook.github.io/prophet/))\n",
        "\n",
        "\n",
        "\n",
        "1.   Instalar\n",
        "2.   Importar\n",
        "3.   Predição\n",
        "\n",
        "\n",
        "👇👇...👇"
      ]
    },
    {
      "cell_type": "code",
      "execution_count": 15,
      "metadata": {
        "id": "P0AEzZXEj06R",
        "colab": {
          "base_uri": "https://localhost:8080/"
        },
        "outputId": "96b17a25-e3d0-46ce-d77c-a49ce2ef9249"
      },
      "outputs": [
        {
          "output_type": "stream",
          "name": "stdout",
          "text": [
            "Collecting pystan==2.19.1.1\n",
            "  Using cached pystan-2.19.1.1.tar.gz (16.2 MB)\n",
            "  Preparing metadata (setup.py) ... \u001b[?25l\u001b[?25hdone\n",
            "Requirement already satisfied: Cython!=0.25.1,>=0.22 in /usr/local/lib/python3.10/dist-packages (from pystan==2.19.1.1) (0.29.36)\n",
            "Requirement already satisfied: numpy>=1.7 in /usr/local/lib/python3.10/dist-packages (from pystan==2.19.1.1) (1.23.5)\n",
            "Building wheels for collected packages: pystan\n",
            "  \u001b[1;31merror\u001b[0m: \u001b[1msubprocess-exited-with-error\u001b[0m\n",
            "  \n",
            "  \u001b[31m×\u001b[0m \u001b[32mpython setup.py bdist_wheel\u001b[0m did not run successfully.\n",
            "  \u001b[31m│\u001b[0m exit code: \u001b[1;36m1\u001b[0m\n",
            "  \u001b[31m╰─>\u001b[0m See above for output.\n",
            "  \n",
            "  \u001b[1;35mnote\u001b[0m: This error originates from a subprocess, and is likely not a problem with pip.\n",
            "  Building wheel for pystan (setup.py) ... \u001b[?25lerror\n",
            "\u001b[31m  ERROR: Failed building wheel for pystan\u001b[0m\u001b[31m\n",
            "\u001b[0m\u001b[?25h  Running setup.py clean for pystan\n",
            "Failed to build pystan\n",
            "\u001b[31mERROR: Could not build wheels for pystan, which is required to install pyproject.toml-based projects\u001b[0m\u001b[31m\n",
            "\u001b[0mRequirement already satisfied: prophet in /usr/local/lib/python3.10/dist-packages (1.1.4)\n",
            "Requirement already satisfied: cmdstanpy>=1.0.4 in /usr/local/lib/python3.10/dist-packages (from prophet) (1.1.0)\n",
            "Requirement already satisfied: numpy>=1.15.4 in /usr/local/lib/python3.10/dist-packages (from prophet) (1.23.5)\n",
            "Requirement already satisfied: matplotlib>=2.0.0 in /usr/local/lib/python3.10/dist-packages (from prophet) (3.7.1)\n",
            "Requirement already satisfied: pandas>=1.0.4 in /usr/local/lib/python3.10/dist-packages (from prophet) (1.5.3)\n",
            "Requirement already satisfied: LunarCalendar>=0.0.9 in /usr/local/lib/python3.10/dist-packages (from prophet) (0.0.9)\n",
            "Requirement already satisfied: convertdate>=2.1.2 in /usr/local/lib/python3.10/dist-packages (from prophet) (2.4.0)\n",
            "Requirement already satisfied: holidays>=0.25 in /usr/local/lib/python3.10/dist-packages (from prophet) (0.29)\n",
            "Requirement already satisfied: python-dateutil>=2.8.0 in /usr/local/lib/python3.10/dist-packages (from prophet) (2.8.2)\n",
            "Requirement already satisfied: tqdm>=4.36.1 in /usr/local/lib/python3.10/dist-packages (from prophet) (4.65.0)\n",
            "Requirement already satisfied: importlib-resources in /usr/local/lib/python3.10/dist-packages (from prophet) (6.0.0)\n",
            "Requirement already satisfied: pymeeus<=1,>=0.3.13 in /usr/local/lib/python3.10/dist-packages (from convertdate>=2.1.2->prophet) (0.5.12)\n",
            "Requirement already satisfied: ephem>=3.7.5.3 in /usr/local/lib/python3.10/dist-packages (from LunarCalendar>=0.0.9->prophet) (4.1.4)\n",
            "Requirement already satisfied: pytz in /usr/local/lib/python3.10/dist-packages (from LunarCalendar>=0.0.9->prophet) (2022.7.1)\n",
            "Requirement already satisfied: contourpy>=1.0.1 in /usr/local/lib/python3.10/dist-packages (from matplotlib>=2.0.0->prophet) (1.1.0)\n",
            "Requirement already satisfied: cycler>=0.10 in /usr/local/lib/python3.10/dist-packages (from matplotlib>=2.0.0->prophet) (0.11.0)\n",
            "Requirement already satisfied: fonttools>=4.22.0 in /usr/local/lib/python3.10/dist-packages (from matplotlib>=2.0.0->prophet) (4.42.0)\n",
            "Requirement already satisfied: kiwisolver>=1.0.1 in /usr/local/lib/python3.10/dist-packages (from matplotlib>=2.0.0->prophet) (1.4.4)\n",
            "Requirement already satisfied: packaging>=20.0 in /usr/local/lib/python3.10/dist-packages (from matplotlib>=2.0.0->prophet) (23.1)\n",
            "Requirement already satisfied: pillow>=6.2.0 in /usr/local/lib/python3.10/dist-packages (from matplotlib>=2.0.0->prophet) (9.4.0)\n",
            "Requirement already satisfied: pyparsing>=2.3.1 in /usr/local/lib/python3.10/dist-packages (from matplotlib>=2.0.0->prophet) (3.1.1)\n",
            "Requirement already satisfied: six>=1.5 in /usr/local/lib/python3.10/dist-packages (from python-dateutil>=2.8.0->prophet) (1.16.0)\n"
          ]
        }
      ],
      "source": [
        "!pip install pystan==2.19.1.1\n",
        "\n",
        "!pip install prophet\n"
      ]
    },
    {
      "cell_type": "code",
      "execution_count": 16,
      "metadata": {
        "id": "2ga09DNRkKR_"
      },
      "outputs": [],
      "source": [
        "from prophet import Prophet"
      ]
    },
    {
      "cell_type": "code",
      "source": [
        "head = pagina.row_values(1)\n",
        "\n",
        "# mostra uma caixa de seleção para selecionar a coluna com a data\n",
        "coluna_data = widgets.Dropdown(options=head.copy(), value=head[0], description='Seleciona a coluna com a Data (Série Temporal): ')\n",
        "coluna_data"
      ],
      "metadata": {
        "colab": {
          "base_uri": "https://localhost:8080/",
          "height": 49,
          "referenced_widgets": [
            "6bcaa598b3e24efdb20d54a9c351550f",
            "cae443960f004aacad78ff22a2390bce",
            "a8dc5abf15f849fe850e21cb241c4289"
          ]
        },
        "id": "issWevuLGEzE",
        "outputId": "f0e4eb55-2214-4800-fda9-7f5868b13a41"
      },
      "execution_count": 17,
      "outputs": [
        {
          "output_type": "display_data",
          "data": {
            "text/plain": [
              "Dropdown(description='Seleciona a coluna com a Data (Série Temporal): ', options=('Ano', 'Próstata Caicó', 'Pr…"
            ],
            "application/vnd.jupyter.widget-view+json": {
              "version_major": 2,
              "version_minor": 0,
              "model_id": "6bcaa598b3e24efdb20d54a9c351550f"
            }
          },
          "metadata": {}
        }
      ]
    },
    {
      "cell_type": "code",
      "source": [
        "coluna_data.index\n",
        "head.remove(coluna_data.value)\n",
        "lista_dados = []\n",
        "lista_dados = head\n",
        "\n",
        "# mostra uma caixa de seleção para selecionar a coluna com os dados a serem analisados\n",
        "coluna_valores = widgets.Dropdown(options=lista_dados, value = lista_dados[0], description='Selecione a coluna com os dados a serem analisados: ')\n",
        "coluna_valores\n"
      ],
      "metadata": {
        "colab": {
          "base_uri": "https://localhost:8080/",
          "height": 49,
          "referenced_widgets": [
            "0a75bb1e5b7d4f488adc29c6360662d4",
            "a9b80da17f4448aeb35a5cd4aac55f99",
            "c4348eb8e06a40a595a0bb75c3cc1c7d"
          ]
        },
        "id": "t--eyxLqHAmm",
        "outputId": "6b63c798-446b-48b4-d1a7-b33a1773ce1b"
      },
      "execution_count": 18,
      "outputs": [
        {
          "output_type": "display_data",
          "data": {
            "text/plain": [
              "Dropdown(description='Selecione a coluna com os dados a serem analisados: ', options=('Próstata Caicó', 'Próst…"
            ],
            "application/vnd.jupyter.widget-view+json": {
              "version_major": 2,
              "version_minor": 0,
              "model_id": "0a75bb1e5b7d4f488adc29c6360662d4"
            }
          },
          "metadata": {}
        }
      ]
    },
    {
      "cell_type": "code",
      "execution_count": 23,
      "metadata": {
        "id": "zNrjKeVtlWtB"
      },
      "outputs": [],
      "source": [
        "df.rename(columns={coluna_data.value: 'ds', coluna_valores.value: 'y'}, inplace = True)\n",
        "# df.info()"
      ]
    },
    {
      "cell_type": "code",
      "execution_count": 24,
      "metadata": {
        "id": "gFfBZwt-kbY0",
        "colab": {
          "base_uri": "https://localhost:8080/"
        },
        "outputId": "88c1b41e-dc70-47d1-ba21-4791bacceeb2"
      },
      "outputs": [
        {
          "output_type": "stream",
          "name": "stderr",
          "text": [
            "INFO:prophet:Disabling weekly seasonality. Run prophet with weekly_seasonality=True to override this.\n",
            "INFO:prophet:Disabling daily seasonality. Run prophet with daily_seasonality=True to override this.\n",
            "INFO:prophet:n_changepoints greater than number of observations. Using 15.\n",
            "DEBUG:cmdstanpy:input tempfile: /tmp/tmp4i9ma511/m0hhss_b.json\n",
            "DEBUG:cmdstanpy:input tempfile: /tmp/tmp4i9ma511/apx63fl5.json\n",
            "DEBUG:cmdstanpy:idx 0\n",
            "DEBUG:cmdstanpy:running CmdStan, num_threads: None\n",
            "DEBUG:cmdstanpy:CmdStan args: ['/usr/local/lib/python3.10/dist-packages/prophet/stan_model/prophet_model.bin', 'random', 'seed=95644', 'data', 'file=/tmp/tmp4i9ma511/m0hhss_b.json', 'init=/tmp/tmp4i9ma511/apx63fl5.json', 'output', 'file=/tmp/tmp4i9ma511/prophet_modeli9n28ayy/prophet_model-20230809170532.csv', 'method=optimize', 'algorithm=newton', 'iter=10000']\n",
            "17:05:32 - cmdstanpy - INFO - Chain [1] start processing\n",
            "INFO:cmdstanpy:Chain [1] start processing\n",
            "17:05:33 - cmdstanpy - INFO - Chain [1] done processing\n",
            "INFO:cmdstanpy:Chain [1] done processing\n"
          ]
        },
        {
          "output_type": "execute_result",
          "data": {
            "text/plain": [
              "<prophet.forecaster.Prophet at 0x7b3c1c312530>"
            ]
          },
          "metadata": {},
          "execution_count": 24
        }
      ],
      "source": [
        "m = Prophet()\n",
        "m.fit(df)"
      ]
    },
    {
      "cell_type": "code",
      "execution_count": 25,
      "metadata": {
        "id": "pcSZdXpykd2w"
      },
      "outputs": [],
      "source": [
        "# Periodo de previsão futura\n",
        "periodo_previsao = 4\n",
        "frequencia = 'Y' # Y: Anual / M: Mensal / D: Diária / ms: milisegundos / h: horas / mim: minutos\n",
        "future = m.make_future_dataframe(periods=periodo_previsao, freq=frequencia, include_history=True)\n",
        "# future.tail(21)"
      ]
    },
    {
      "cell_type": "code",
      "execution_count": 26,
      "metadata": {
        "id": "1AR58_-SkmXK",
        "colab": {
          "base_uri": "https://localhost:8080/",
          "height": 802
        },
        "outputId": "fffe4e45-a49d-4a40-e03f-fd97e11ad567"
      },
      "outputs": [
        {
          "output_type": "execute_result",
          "data": {
            "text/plain": [
              "           ds       yhat  yhat_lower  yhat_upper\n",
              "0  2000-12-31   2.881993    0.133882    5.487889\n",
              "1  2001-12-31   2.813659   -0.133718    5.513367\n",
              "2  2002-12-31   2.810683   -0.031998    5.672747\n",
              "3  2003-12-31   2.873668   -0.093866    5.731958\n",
              "4  2004-12-31   4.858523    1.960328    7.492035\n",
              "5  2005-12-31   4.790189    2.014548    7.849155\n",
              "6  2006-12-31   4.787213    1.725048    7.924728\n",
              "7  2007-12-31   4.850198    2.057307    7.571543\n",
              "8  2008-12-31   6.835053    3.891184    9.815714\n",
              "9  2009-12-31   6.766720    3.886309    9.729183\n",
              "10 2010-12-31   6.763743    3.770153    9.899681\n",
              "11 2011-12-31   6.826728    3.877773    9.774759\n",
              "12 2012-12-31   8.811584    5.981301   11.772560\n",
              "13 2013-12-31   8.743250    5.693464   11.672111\n",
              "14 2014-12-31   8.740273    5.867480   11.871123\n",
              "15 2015-12-31   8.803258    5.855641   11.426951\n",
              "16 2016-12-31  10.788114    7.780956   13.784982\n",
              "17 2017-12-31  10.719780    7.825638   13.780164\n",
              "18 2018-12-31  10.716804    8.038969   13.565808\n",
              "19 2019-12-31  10.779789    7.861006   13.472270\n",
              "20 2020-12-31  12.764644    9.903124   15.542132\n",
              "21 2021-12-31  12.696310    9.760555   15.527078\n",
              "22 2022-12-31  12.693334    9.853914   15.750895\n",
              "23 2023-12-31  12.756319    9.752758   15.462266"
            ],
            "text/html": [
              "\n",
              "\n",
              "  <div id=\"df-922231cf-2875-45fd-a227-29f82954ba45\">\n",
              "    <div class=\"colab-df-container\">\n",
              "      <div>\n",
              "<style scoped>\n",
              "    .dataframe tbody tr th:only-of-type {\n",
              "        vertical-align: middle;\n",
              "    }\n",
              "\n",
              "    .dataframe tbody tr th {\n",
              "        vertical-align: top;\n",
              "    }\n",
              "\n",
              "    .dataframe thead th {\n",
              "        text-align: right;\n",
              "    }\n",
              "</style>\n",
              "<table border=\"1\" class=\"dataframe\">\n",
              "  <thead>\n",
              "    <tr style=\"text-align: right;\">\n",
              "      <th></th>\n",
              "      <th>ds</th>\n",
              "      <th>yhat</th>\n",
              "      <th>yhat_lower</th>\n",
              "      <th>yhat_upper</th>\n",
              "    </tr>\n",
              "  </thead>\n",
              "  <tbody>\n",
              "    <tr>\n",
              "      <th>0</th>\n",
              "      <td>2000-12-31</td>\n",
              "      <td>2.881993</td>\n",
              "      <td>0.133882</td>\n",
              "      <td>5.487889</td>\n",
              "    </tr>\n",
              "    <tr>\n",
              "      <th>1</th>\n",
              "      <td>2001-12-31</td>\n",
              "      <td>2.813659</td>\n",
              "      <td>-0.133718</td>\n",
              "      <td>5.513367</td>\n",
              "    </tr>\n",
              "    <tr>\n",
              "      <th>2</th>\n",
              "      <td>2002-12-31</td>\n",
              "      <td>2.810683</td>\n",
              "      <td>-0.031998</td>\n",
              "      <td>5.672747</td>\n",
              "    </tr>\n",
              "    <tr>\n",
              "      <th>3</th>\n",
              "      <td>2003-12-31</td>\n",
              "      <td>2.873668</td>\n",
              "      <td>-0.093866</td>\n",
              "      <td>5.731958</td>\n",
              "    </tr>\n",
              "    <tr>\n",
              "      <th>4</th>\n",
              "      <td>2004-12-31</td>\n",
              "      <td>4.858523</td>\n",
              "      <td>1.960328</td>\n",
              "      <td>7.492035</td>\n",
              "    </tr>\n",
              "    <tr>\n",
              "      <th>5</th>\n",
              "      <td>2005-12-31</td>\n",
              "      <td>4.790189</td>\n",
              "      <td>2.014548</td>\n",
              "      <td>7.849155</td>\n",
              "    </tr>\n",
              "    <tr>\n",
              "      <th>6</th>\n",
              "      <td>2006-12-31</td>\n",
              "      <td>4.787213</td>\n",
              "      <td>1.725048</td>\n",
              "      <td>7.924728</td>\n",
              "    </tr>\n",
              "    <tr>\n",
              "      <th>7</th>\n",
              "      <td>2007-12-31</td>\n",
              "      <td>4.850198</td>\n",
              "      <td>2.057307</td>\n",
              "      <td>7.571543</td>\n",
              "    </tr>\n",
              "    <tr>\n",
              "      <th>8</th>\n",
              "      <td>2008-12-31</td>\n",
              "      <td>6.835053</td>\n",
              "      <td>3.891184</td>\n",
              "      <td>9.815714</td>\n",
              "    </tr>\n",
              "    <tr>\n",
              "      <th>9</th>\n",
              "      <td>2009-12-31</td>\n",
              "      <td>6.766720</td>\n",
              "      <td>3.886309</td>\n",
              "      <td>9.729183</td>\n",
              "    </tr>\n",
              "    <tr>\n",
              "      <th>10</th>\n",
              "      <td>2010-12-31</td>\n",
              "      <td>6.763743</td>\n",
              "      <td>3.770153</td>\n",
              "      <td>9.899681</td>\n",
              "    </tr>\n",
              "    <tr>\n",
              "      <th>11</th>\n",
              "      <td>2011-12-31</td>\n",
              "      <td>6.826728</td>\n",
              "      <td>3.877773</td>\n",
              "      <td>9.774759</td>\n",
              "    </tr>\n",
              "    <tr>\n",
              "      <th>12</th>\n",
              "      <td>2012-12-31</td>\n",
              "      <td>8.811584</td>\n",
              "      <td>5.981301</td>\n",
              "      <td>11.772560</td>\n",
              "    </tr>\n",
              "    <tr>\n",
              "      <th>13</th>\n",
              "      <td>2013-12-31</td>\n",
              "      <td>8.743250</td>\n",
              "      <td>5.693464</td>\n",
              "      <td>11.672111</td>\n",
              "    </tr>\n",
              "    <tr>\n",
              "      <th>14</th>\n",
              "      <td>2014-12-31</td>\n",
              "      <td>8.740273</td>\n",
              "      <td>5.867480</td>\n",
              "      <td>11.871123</td>\n",
              "    </tr>\n",
              "    <tr>\n",
              "      <th>15</th>\n",
              "      <td>2015-12-31</td>\n",
              "      <td>8.803258</td>\n",
              "      <td>5.855641</td>\n",
              "      <td>11.426951</td>\n",
              "    </tr>\n",
              "    <tr>\n",
              "      <th>16</th>\n",
              "      <td>2016-12-31</td>\n",
              "      <td>10.788114</td>\n",
              "      <td>7.780956</td>\n",
              "      <td>13.784982</td>\n",
              "    </tr>\n",
              "    <tr>\n",
              "      <th>17</th>\n",
              "      <td>2017-12-31</td>\n",
              "      <td>10.719780</td>\n",
              "      <td>7.825638</td>\n",
              "      <td>13.780164</td>\n",
              "    </tr>\n",
              "    <tr>\n",
              "      <th>18</th>\n",
              "      <td>2018-12-31</td>\n",
              "      <td>10.716804</td>\n",
              "      <td>8.038969</td>\n",
              "      <td>13.565808</td>\n",
              "    </tr>\n",
              "    <tr>\n",
              "      <th>19</th>\n",
              "      <td>2019-12-31</td>\n",
              "      <td>10.779789</td>\n",
              "      <td>7.861006</td>\n",
              "      <td>13.472270</td>\n",
              "    </tr>\n",
              "    <tr>\n",
              "      <th>20</th>\n",
              "      <td>2020-12-31</td>\n",
              "      <td>12.764644</td>\n",
              "      <td>9.903124</td>\n",
              "      <td>15.542132</td>\n",
              "    </tr>\n",
              "    <tr>\n",
              "      <th>21</th>\n",
              "      <td>2021-12-31</td>\n",
              "      <td>12.696310</td>\n",
              "      <td>9.760555</td>\n",
              "      <td>15.527078</td>\n",
              "    </tr>\n",
              "    <tr>\n",
              "      <th>22</th>\n",
              "      <td>2022-12-31</td>\n",
              "      <td>12.693334</td>\n",
              "      <td>9.853914</td>\n",
              "      <td>15.750895</td>\n",
              "    </tr>\n",
              "    <tr>\n",
              "      <th>23</th>\n",
              "      <td>2023-12-31</td>\n",
              "      <td>12.756319</td>\n",
              "      <td>9.752758</td>\n",
              "      <td>15.462266</td>\n",
              "    </tr>\n",
              "  </tbody>\n",
              "</table>\n",
              "</div>\n",
              "      <button class=\"colab-df-convert\" onclick=\"convertToInteractive('df-922231cf-2875-45fd-a227-29f82954ba45')\"\n",
              "              title=\"Convert this dataframe to an interactive table.\"\n",
              "              style=\"display:none;\">\n",
              "\n",
              "  <svg xmlns=\"http://www.w3.org/2000/svg\" height=\"24px\"viewBox=\"0 0 24 24\"\n",
              "       width=\"24px\">\n",
              "    <path d=\"M0 0h24v24H0V0z\" fill=\"none\"/>\n",
              "    <path d=\"M18.56 5.44l.94 2.06.94-2.06 2.06-.94-2.06-.94-.94-2.06-.94 2.06-2.06.94zm-11 1L8.5 8.5l.94-2.06 2.06-.94-2.06-.94L8.5 2.5l-.94 2.06-2.06.94zm10 10l.94 2.06.94-2.06 2.06-.94-2.06-.94-.94-2.06-.94 2.06-2.06.94z\"/><path d=\"M17.41 7.96l-1.37-1.37c-.4-.4-.92-.59-1.43-.59-.52 0-1.04.2-1.43.59L10.3 9.45l-7.72 7.72c-.78.78-.78 2.05 0 2.83L4 21.41c.39.39.9.59 1.41.59.51 0 1.02-.2 1.41-.59l7.78-7.78 2.81-2.81c.8-.78.8-2.07 0-2.86zM5.41 20L4 18.59l7.72-7.72 1.47 1.35L5.41 20z\"/>\n",
              "  </svg>\n",
              "      </button>\n",
              "\n",
              "\n",
              "\n",
              "    <div id=\"df-069867bb-aafb-40cb-aa2c-15058547a61a\">\n",
              "      <button class=\"colab-df-quickchart\" onclick=\"quickchart('df-069867bb-aafb-40cb-aa2c-15058547a61a')\"\n",
              "              title=\"Suggest charts.\"\n",
              "              style=\"display:none;\">\n",
              "\n",
              "<svg xmlns=\"http://www.w3.org/2000/svg\" height=\"24px\"viewBox=\"0 0 24 24\"\n",
              "     width=\"24px\">\n",
              "    <g>\n",
              "        <path d=\"M19 3H5c-1.1 0-2 .9-2 2v14c0 1.1.9 2 2 2h14c1.1 0 2-.9 2-2V5c0-1.1-.9-2-2-2zM9 17H7v-7h2v7zm4 0h-2V7h2v10zm4 0h-2v-4h2v4z\"/>\n",
              "    </g>\n",
              "</svg>\n",
              "      </button>\n",
              "    </div>\n",
              "\n",
              "<style>\n",
              "  .colab-df-quickchart {\n",
              "    background-color: #E8F0FE;\n",
              "    border: none;\n",
              "    border-radius: 50%;\n",
              "    cursor: pointer;\n",
              "    display: none;\n",
              "    fill: #1967D2;\n",
              "    height: 32px;\n",
              "    padding: 0 0 0 0;\n",
              "    width: 32px;\n",
              "  }\n",
              "\n",
              "  .colab-df-quickchart:hover {\n",
              "    background-color: #E2EBFA;\n",
              "    box-shadow: 0px 1px 2px rgba(60, 64, 67, 0.3), 0px 1px 3px 1px rgba(60, 64, 67, 0.15);\n",
              "    fill: #174EA6;\n",
              "  }\n",
              "\n",
              "  [theme=dark] .colab-df-quickchart {\n",
              "    background-color: #3B4455;\n",
              "    fill: #D2E3FC;\n",
              "  }\n",
              "\n",
              "  [theme=dark] .colab-df-quickchart:hover {\n",
              "    background-color: #434B5C;\n",
              "    box-shadow: 0px 1px 3px 1px rgba(0, 0, 0, 0.15);\n",
              "    filter: drop-shadow(0px 1px 2px rgba(0, 0, 0, 0.3));\n",
              "    fill: #FFFFFF;\n",
              "  }\n",
              "</style>\n",
              "\n",
              "    <script>\n",
              "      async function quickchart(key) {\n",
              "        const containerElement = document.querySelector('#' + key);\n",
              "        const charts = await google.colab.kernel.invokeFunction(\n",
              "            'suggestCharts', [key], {});\n",
              "      }\n",
              "    </script>\n",
              "\n",
              "      <script>\n",
              "\n",
              "function displayQuickchartButton(domScope) {\n",
              "  let quickchartButtonEl =\n",
              "    domScope.querySelector('#df-069867bb-aafb-40cb-aa2c-15058547a61a button.colab-df-quickchart');\n",
              "  quickchartButtonEl.style.display =\n",
              "    google.colab.kernel.accessAllowed ? 'block' : 'none';\n",
              "}\n",
              "\n",
              "        displayQuickchartButton(document);\n",
              "      </script>\n",
              "      <style>\n",
              "    .colab-df-container {\n",
              "      display:flex;\n",
              "      flex-wrap:wrap;\n",
              "      gap: 12px;\n",
              "    }\n",
              "\n",
              "    .colab-df-convert {\n",
              "      background-color: #E8F0FE;\n",
              "      border: none;\n",
              "      border-radius: 50%;\n",
              "      cursor: pointer;\n",
              "      display: none;\n",
              "      fill: #1967D2;\n",
              "      height: 32px;\n",
              "      padding: 0 0 0 0;\n",
              "      width: 32px;\n",
              "    }\n",
              "\n",
              "    .colab-df-convert:hover {\n",
              "      background-color: #E2EBFA;\n",
              "      box-shadow: 0px 1px 2px rgba(60, 64, 67, 0.3), 0px 1px 3px 1px rgba(60, 64, 67, 0.15);\n",
              "      fill: #174EA6;\n",
              "    }\n",
              "\n",
              "    [theme=dark] .colab-df-convert {\n",
              "      background-color: #3B4455;\n",
              "      fill: #D2E3FC;\n",
              "    }\n",
              "\n",
              "    [theme=dark] .colab-df-convert:hover {\n",
              "      background-color: #434B5C;\n",
              "      box-shadow: 0px 1px 3px 1px rgba(0, 0, 0, 0.15);\n",
              "      filter: drop-shadow(0px 1px 2px rgba(0, 0, 0, 0.3));\n",
              "      fill: #FFFFFF;\n",
              "    }\n",
              "  </style>\n",
              "\n",
              "      <script>\n",
              "        const buttonEl =\n",
              "          document.querySelector('#df-922231cf-2875-45fd-a227-29f82954ba45 button.colab-df-convert');\n",
              "        buttonEl.style.display =\n",
              "          google.colab.kernel.accessAllowed ? 'block' : 'none';\n",
              "\n",
              "        async function convertToInteractive(key) {\n",
              "          const element = document.querySelector('#df-922231cf-2875-45fd-a227-29f82954ba45');\n",
              "          const dataTable =\n",
              "            await google.colab.kernel.invokeFunction('convertToInteractive',\n",
              "                                                     [key], {});\n",
              "          if (!dataTable) return;\n",
              "\n",
              "          const docLinkHtml = 'Like what you see? Visit the ' +\n",
              "            '<a target=\"_blank\" href=https://colab.research.google.com/notebooks/data_table.ipynb>data table notebook</a>'\n",
              "            + ' to learn more about interactive tables.';\n",
              "          element.innerHTML = '';\n",
              "          dataTable['output_type'] = 'display_data';\n",
              "          await google.colab.output.renderOutput(dataTable, element);\n",
              "          const docLink = document.createElement('div');\n",
              "          docLink.innerHTML = docLinkHtml;\n",
              "          element.appendChild(docLink);\n",
              "        }\n",
              "      </script>\n",
              "    </div>\n",
              "  </div>\n"
            ]
          },
          "metadata": {},
          "execution_count": 26
        }
      ],
      "source": [
        "forecast = m.predict(future)\n",
        "forecast[['ds', 'yhat', 'yhat_lower', 'yhat_upper']]\n"
      ]
    },
    {
      "cell_type": "code",
      "execution_count": 27,
      "metadata": {
        "id": "_nErhY1ykp9z",
        "colab": {
          "base_uri": "https://localhost:8080/",
          "height": 607
        },
        "outputId": "f80fb283-8f88-4a81-fe1d-108910d44f20"
      },
      "outputs": [
        {
          "output_type": "display_data",
          "data": {
            "text/plain": [
              "<Figure size 1000x600 with 1 Axes>"
            ],
            "image/png": "[encoded data removed]"
          },
          "metadata": {}
        }
      ],
      "source": [
        "fig1 = m.plot(forecast, xlabel='Ano', ylabel='Casos')\n"
      ]
    },
    {
      "cell_type": "code",
      "execution_count": 28,
      "metadata": {
        "id": "l4kkdsI-ksg8",
        "colab": {
          "base_uri": "https://localhost:8080/",
          "height": 607
        },
        "outputId": "e273306b-2ce3-42fa-8708-b532304cfd8d"
      },
      "outputs": [
        {
          "output_type": "display_data",
          "data": {
            "text/plain": [
              "<Figure size 900x600 with 2 Axes>"
            ],
            "image/png": "[encoded data removed]"
          },
          "metadata": {}
        }
      ],
      "source": [
        "fig2 = m.plot_components(forecast)\n"
      ]
    },
    {
      "cell_type": "markdown",
      "source": [
        "\n",
        "\n",
        "\n",
        "#DIAGNOSTICO - Cross Validation"
      ],
      "metadata": {
        "id": "V5kB6Og6xnvU"
      }
    },
    {
      "cell_type": "code",
      "source": [
        "from prophet.diagnostics import cross_validation, performance_metrics\n",
        "\n",
        "numero_dias_no_ano = 365\n",
        "quantidade_de_anos_analisados= df.shape[0]\n",
        "\n",
        "quantidade_para_treino = quantidade_de_anos_analisados *0.50\n",
        "quantidade_para_horizonte = quantidade_de_anos_analisados * 0.25\n",
        "\n",
        "# o tamanho do período de treinamento inicial (em dias)\n",
        "periodo_de_treino = quantidade_para_treino * numero_dias_no_ano\n",
        "\n",
        "# periodo de cada corte (em dias)\n",
        "periodo_de_corte = numero_dias_no_ano\n",
        "\n",
        "# horizonte de previsão (em dias)\n",
        "horizonte = quantidade_para_horizonte * numero_dias_no_ano\n",
        "\n",
        "# dataframe com os valores reais y e os valores de previsão fora da amostra yhat, em cada data de previsão simulada e para cada data de corte.\n",
        "df_cv = cross_validation(m, initial=f'{periodo_de_treino} days', period=f'{periodo_de_corte} days', horizon=f'{horizonte} days')\n",
        "\n",
        "# métricas de desempenho - MSE, RMSE, MAE, MAPE e MDAPE\n",
        "metrics = performance_metrics(df_cv)\n",
        "metrics"
      ],
      "metadata": {
        "id": "g9KxszixVLMo"
      },
      "execution_count": null,
      "outputs": []
    },
    {
      "cell_type": "code",
      "source": [
        "# Python\n",
        "from prophet.plot import plot_cross_validation_metric\n",
        "fig = plot_cross_validation_metric(df_cv, metric='mse')\n"
      ],
      "metadata": {
        "id": "oK5CbgmL1WdI"
      },
      "execution_count": null,
      "outputs": []
    },
    {
      "cell_type": "markdown",
      "metadata": {
        "id": "SA27BW29kYps"
      },
      "source": [
        ".\n",
        "\n",
        ".\n",
        "\n",
        ".\n",
        "\n",
        "## Modelo para uso do pyMannKendall\n",
        "\n",
        "\n",
        "# 👇"
      ]
    },
    {
      "cell_type": "code",
      "execution_count": null,
      "metadata": {
        "id": "ht1V2As0Z6f4"
      },
      "outputs": [],
      "source": [
        "!pip install pymannkendall"
      ]
    },
    {
      "cell_type": "markdown",
      "metadata": {
        "id": "5iNRO1OlN7cj"
      },
      "source": [
        "Análise de Tendência dos valores após análise de predição pelo profeta\n",
        "\n",
        "👇"
      ]
    },
    {
      "cell_type": "code",
      "execution_count": null,
      "metadata": {
        "id": "QM0I6mBCcH-T"
      },
      "outputs": [],
      "source": [
        "import pymannkendall as mk\n",
        "\n",
        "result = mk.original_test(forecast[['yhat']])\n",
        "print(result)"
      ]
    },
    {
      "cell_type": "markdown",
      "metadata": {
        "id": "L7_W8BGGesLe"
      },
      "source": [
        "## Útima etapa\n",
        "Pegar os valores e salvar em uma página da planilha\n",
        "#✋ ***Atenção! Só executar esta etapa, caso queira gravar na planilha.***\n",
        "\n"
      ]
    },
    {
      "cell_type": "code",
      "execution_count": null,
      "metadata": {
        "id": "HVLnfSS-f9wz"
      },
      "outputs": [],
      "source": [
        "import datetime\n",
        "# gerando um novo nome baseado no tempo\n",
        "x = datetime.datetime.now()\n",
        "nome_nova_pagina = \"analise \"+ x.strftime(\"%d/%m/%Y-%X\")\n",
        "\n",
        "# criar uma página na planilha com x colunas e y linhas\n",
        "\n",
        "pagina_com_estimativas = planilha.add_worksheet(nome_nova_pagina, rows=forecast.shape[0], cols=forecast.shape[1])"
      ]
    },
    {
      "cell_type": "code",
      "execution_count": null,
      "metadata": {
        "id": "FnIuN0GUit7p"
      },
      "outputs": [],
      "source": [
        "forecast['ds'] = forecast['ds'].astype(str)\n",
        "# transferir os dados do dataframe para a planilha\n",
        "pagina_com_estimativas.update([forecast.columns.values.tolist()] + forecast.values.tolist())"
      ]
    }
  ],
  "metadata": {
    "colab": {
      "provenance": []
    },
    "kernelspec": {
      "display_name": "Python 3",
      "name": "python3"
    },
    "language_info": {
      "name": "python"
    },
    "widgets": {
      "application/vnd.jupyter.widget-state+json": {
        "b301cedb30bb42c5a9c3348234c94bf2": {
          "model_module": "@jupyter-widgets/controls",
          "model_name": "DropdownModel",
          "model_module_version": "1.5.0",
          "state": {
            "_dom_classes": [],
            "_model_module": "@jupyter-widgets/controls",
            "_model_module_version": "1.5.0",
            "_model_name": "DropdownModel",
            "_options_labels": [
              "Mapa - Plantões dos Membros do MPRN",
              "LISTAGEM DE ATA DE REGISTRO DE PREÇOS",
              "ESP8266 logging",
              "Mininet-WiFi Citations & Use Case Catalogue",
              "FORMANDOS BTI 2022.2",
              "pesquisa_caico",
              "PRODUTOS",
              "Tamanho das Becas - Colação de Grau BTI - 2022.2",
              "Planilha sem título",
              "Apresentação sem título - Gráfico de pizza 1",
              "Cryptocurrency Coin's data from Coingecko",
              "pesquisa_caico",
              "Instrumento tutorial Metabolismo 2022",
              "2022 - ACOMPANHAMENTO PROCESSOS CAF HGT (RP, PREGÃO E DISPENSA - ABAS SEPARADAS)",
              "Instrumento Tutorial MODELO 2022",
              "bd_residencia",
              "Issue Tracker",
              "Diagnóstico - Automotivação",
              "Planilha sem título",
              "Cópia de Diagnóstico - Automotivação - Prof David - JP",
              "Programação GO!RN 2021",
              "PharmaServiceAppDjango",
              "Aval_Satisfação_Entrega",
              "ESP8266_data_1",
              "Notas e Grupos Trabalho3 - N12",
              "dbRegistros",
              "IMD0703 - Cronograma e Notas",
              "SO 2020.2 T02",
              "Lista de Emails",
              "Lista de tarefas",
              "PLANILHA CLOROQUINA",
              "Lista de tarefas",
              "Orçamento anual",
              "Custom Collect to Spreadsheet",
              "Angular Google Sheets - Example",
              "Temperature_Over_Time"
            ],
            "_view_count": null,
            "_view_module": "@jupyter-widgets/controls",
            "_view_module_version": "1.5.0",
            "_view_name": "DropdownView",
            "description": "",
            "description_tooltip": null,
            "disabled": false,
            "index": 5,
            "layout": "IPY_MODEL_e9cffc90fbf145feaf84a1dda4c72fbd",
            "style": "IPY_MODEL_1c3147baaf364d85876115d887d8f5ad"
          }
        },
        "e9cffc90fbf145feaf84a1dda4c72fbd": {
          "model_module": "@jupyter-widgets/base",
          "model_name": "LayoutModel",
          "model_module_version": "1.2.0",
          "state": {
            "_model_module": "@jupyter-widgets/base",
            "_model_module_version": "1.2.0",
            "_model_name": "LayoutModel",
            "_view_count": null,
            "_view_module": "@jupyter-widgets/base",
            "_view_module_version": "1.2.0",
            "_view_name": "LayoutView",
            "align_content": null,
            "align_items": null,
            "align_self": null,
            "border": null,
            "bottom": null,
            "display": null,
            "flex": null,
            "flex_flow": null,
            "grid_area": null,
            "grid_auto_columns": null,
            "grid_auto_flow": null,
            "grid_auto_rows": null,
            "grid_column": null,
            "grid_gap": null,
            "grid_row": null,
            "grid_template_areas": null,
            "grid_template_columns": null,
            "grid_template_rows": null,
            "height": null,
            "justify_content": null,
            "justify_items": null,
            "left": null,
            "margin": null,
            "max_height": null,
            "max_width": null,
            "min_height": null,
            "min_width": null,
            "object_fit": null,
            "object_position": null,
            "order": null,
            "overflow": null,
            "overflow_x": null,
            "overflow_y": null,
            "padding": null,
            "right": null,
            "top": null,
            "visibility": null,
            "width": null
          }
        },
        "1c3147baaf364d85876115d887d8f5ad": {
          "model_module": "@jupyter-widgets/controls",
          "model_name": "DescriptionStyleModel",
          "model_module_version": "1.5.0",
          "state": {
            "_model_module": "@jupyter-widgets/controls",
            "_model_module_version": "1.5.0",
            "_model_name": "DescriptionStyleModel",
            "_view_count": null,
            "_view_module": "@jupyter-widgets/base",
            "_view_module_version": "1.2.0",
            "_view_name": "StyleView",
            "description_width": ""
          }
        },
        "2ea89bf4a14c44a08eebfe17daa78456": {
          "model_module": "@jupyter-widgets/controls",
          "model_name": "DropdownModel",
          "model_module_version": "1.5.0",
          "state": {
            "_dom_classes": [],
            "_model_module": "@jupyter-widgets/controls",
            "_model_module_version": "1.5.0",
            "_model_name": "DropdownModel",
            "_options_labels": [
              "Próstata 2014-2019",
              "Próstata 2000-2019",
              "Próstata  Mês-Ano 2000-2019",
              "Resultados Próstata 2020-2019",
              "Resultados Próstata 2000-2019",
              "Testicular 2000-2019",
              "Testicular 2014-2019",
              "Próstata Idade 2000-2019",
              "Próstata Idade 2014-2019",
              "Testicular Idade 2000-2019",
              "Testicular Idade 2014-2019"
            ],
            "_view_count": null,
            "_view_module": "@jupyter-widgets/controls",
            "_view_module_version": "1.5.0",
            "_view_name": "DropdownView",
            "description": "",
            "description_tooltip": null,
            "disabled": false,
            "index": 1,
            "layout": "IPY_MODEL_19c6fc725e3747db9eb10a5f18323954",
            "style": "IPY_MODEL_188124bcf2264243aed64605d4fd177d"
          }
        },
        "19c6fc725e3747db9eb10a5f18323954": {
          "model_module": "@jupyter-widgets/base",
          "model_name": "LayoutModel",
          "model_module_version": "1.2.0",
          "state": {
            "_model_module": "@jupyter-widgets/base",
            "_model_module_version": "1.2.0",
            "_model_name": "LayoutModel",
            "_view_count": null,
            "_view_module": "@jupyter-widgets/base",
            "_view_module_version": "1.2.0",
            "_view_name": "LayoutView",
            "align_content": null,
            "align_items": null,
            "align_self": null,
            "border": null,
            "bottom": null,
            "display": null,
            "flex": null,
            "flex_flow": null,
            "grid_area": null,
            "grid_auto_columns": null,
            "grid_auto_flow": null,
            "grid_auto_rows": null,
            "grid_column": null,
            "grid_gap": null,
            "grid_row": null,
            "grid_template_areas": null,
            "grid_template_columns": null,
            "grid_template_rows": null,
            "height": null,
            "justify_content": null,
            "justify_items": null,
            "left": null,
            "margin": null,
            "max_height": null,
            "max_width": null,
            "min_height": null,
            "min_width": null,
            "object_fit": null,
            "object_position": null,
            "order": null,
            "overflow": null,
            "overflow_x": null,
            "overflow_y": null,
            "padding": null,
            "right": null,
            "top": null,
            "visibility": null,
            "width": null
          }
        },
        "188124bcf2264243aed64605d4fd177d": {
          "model_module": "@jupyter-widgets/controls",
          "model_name": "DescriptionStyleModel",
          "model_module_version": "1.5.0",
          "state": {
            "_model_module": "@jupyter-widgets/controls",
            "_model_module_version": "1.5.0",
            "_model_name": "DescriptionStyleModel",
            "_view_count": null,
            "_view_module": "@jupyter-widgets/base",
            "_view_module_version": "1.2.0",
            "_view_name": "StyleView",
            "description_width": ""
          }
        },
        "6bcaa598b3e24efdb20d54a9c351550f": {
          "model_module": "@jupyter-widgets/controls",
          "model_name": "DropdownModel",
          "model_module_version": "1.5.0",
          "state": {
            "_dom_classes": [],
            "_model_module": "@jupyter-widgets/controls",
            "_model_module_version": "1.5.0",
            "_model_name": "DropdownModel",
            "_options_labels": [
              "Ano",
              "Próstata Caicó",
              "Próstata RN"
            ],
            "_view_count": null,
            "_view_module": "@jupyter-widgets/controls",
            "_view_module_version": "1.5.0",
            "_view_name": "DropdownView",
            "description": "Seleciona a coluna com a Data (Série Temporal): ",
            "description_tooltip": null,
            "disabled": false,
            "index": 0,
            "layout": "IPY_MODEL_cae443960f004aacad78ff22a2390bce",
            "style": "IPY_MODEL_a8dc5abf15f849fe850e21cb241c4289"
          }
        },
        "cae443960f004aacad78ff22a2390bce": {
          "model_module": "@jupyter-widgets/base",
          "model_name": "LayoutModel",
          "model_module_version": "1.2.0",
          "state": {
            "_model_module": "@jupyter-widgets/base",
            "_model_module_version": "1.2.0",
            "_model_name": "LayoutModel",
            "_view_count": null,
            "_view_module": "@jupyter-widgets/base",
            "_view_module_version": "1.2.0",
            "_view_name": "LayoutView",
            "align_content": null,
            "align_items": null,
            "align_self": null,
            "border": null,
            "bottom": null,
            "display": null,
            "flex": null,
            "flex_flow": null,
            "grid_area": null,
            "grid_auto_columns": null,
            "grid_auto_flow": null,
            "grid_auto_rows": null,
            "grid_column": null,
            "grid_gap": null,
            "grid_row": null,
            "grid_template_areas": null,
            "grid_template_columns": null,
            "grid_template_rows": null,
            "height": null,
            "justify_content": null,
            "justify_items": null,
            "left": null,
            "margin": null,
            "max_height": null,
            "max_width": null,
            "min_height": null,
            "min_width": null,
            "object_fit": null,
            "object_position": null,
            "order": null,
            "overflow": null,
            "overflow_x": null,
            "overflow_y": null,
            "padding": null,
            "right": null,
            "top": null,
            "visibility": null,
            "width": null
          }
        },
        "a8dc5abf15f849fe850e21cb241c4289": {
          "model_module": "@jupyter-widgets/controls",
          "model_name": "DescriptionStyleModel",
          "model_module_version": "1.5.0",
          "state": {
            "_model_module": "@jupyter-widgets/controls",
            "_model_module_version": "1.5.0",
            "_model_name": "DescriptionStyleModel",
            "_view_count": null,
            "_view_module": "@jupyter-widgets/base",
            "_view_module_version": "1.2.0",
            "_view_name": "StyleView",
            "description_width": ""
          }
        },
        "0a75bb1e5b7d4f488adc29c6360662d4": {
          "model_module": "@jupyter-widgets/controls",
          "model_name": "DropdownModel",
          "model_module_version": "1.5.0",
          "state": {
            "_dom_classes": [],
            "_model_module": "@jupyter-widgets/controls",
            "_model_module_version": "1.5.0",
            "_model_name": "DropdownModel",
            "_options_labels": [
              "Próstata Caicó",
              "Próstata RN"
            ],
            "_view_count": null,
            "_view_module": "@jupyter-widgets/controls",
            "_view_module_version": "1.5.0",
            "_view_name": "DropdownView",
            "description": "Selecione a coluna com os dados a serem analisados: ",
            "description_tooltip": null,
            "disabled": false,
            "index": 0,
            "layout": "IPY_MODEL_a9b80da17f4448aeb35a5cd4aac55f99",
            "style": "IPY_MODEL_c4348eb8e06a40a595a0bb75c3cc1c7d"
          }
        },
        "a9b80da17f4448aeb35a5cd4aac55f99": {
          "model_module": "@jupyter-widgets/base",
          "model_name": "LayoutModel",
          "model_module_version": "1.2.0",
          "state": {
            "_model_module": "@jupyter-widgets/base",
            "_model_module_version": "1.2.0",
            "_model_name": "LayoutModel",
            "_view_count": null,
            "_view_module": "@jupyter-widgets/base",
            "_view_module_version": "1.2.0",
            "_view_name": "LayoutView",
            "align_content": null,
            "align_items": null,
            "align_self": null,
            "border": null,
            "bottom": null,
            "display": null,
            "flex": null,
            "flex_flow": null,
            "grid_area": null,
            "grid_auto_columns": null,
            "grid_auto_flow": null,
            "grid_auto_rows": null,
            "grid_column": null,
            "grid_gap": null,
            "grid_row": null,
            "grid_template_areas": null,
            "grid_template_columns": null,
            "grid_template_rows": null,
            "height": null,
            "justify_content": null,
            "justify_items": null,
            "left": null,
            "margin": null,
            "max_height": null,
            "max_width": null,
            "min_height": null,
            "min_width": null,
            "object_fit": null,
            "object_position": null,
            "order": null,
            "overflow": null,
            "overflow_x": null,
            "overflow_y": null,
            "padding": null,
            "right": null,
            "top": null,
            "visibility": null,
            "width": null
          }
        },
        "c4348eb8e06a40a595a0bb75c3cc1c7d": {
          "model_module": "@jupyter-widgets/controls",
          "model_name": "DescriptionStyleModel",
          "model_module_version": "1.5.0",
          "state": {
            "_model_module": "@jupyter-widgets/controls",
            "_model_module_version": "1.5.0",
            "_model_name": "DescriptionStyleModel",
            "_view_count": null,
            "_view_module": "@jupyter-widgets/base",
            "_view_module_version": "1.2.0",
            "_view_name": "StyleView",
            "description_width": ""
          }
        }
      }
    }
  },
  "nbformat": 4,
  "nbformat_minor": 0
}